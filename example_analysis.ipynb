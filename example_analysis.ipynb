{
 "cells": [
  {
   "cell_type": "code",
   "execution_count": 146,
   "id": "placed-twist",
   "metadata": {},
   "outputs": [],
   "source": [
    "import numpy as np\n",
    "import pandas as pd\n",
    "import matplotlib.pyplot as plt\n",
    "from magicce import entropy, prior_params, find_error_probability, std_eff"
   ]
  },
  {
   "cell_type": "code",
   "execution_count": 61,
   "id": "prostate-details",
   "metadata": {},
   "outputs": [
    {
     "data": {
      "text/html": [
       "<div>\n",
       "<style scoped>\n",
       "    .dataframe tbody tr th:only-of-type {\n",
       "        vertical-align: middle;\n",
       "    }\n",
       "\n",
       "    .dataframe tbody tr th {\n",
       "        vertical-align: top;\n",
       "    }\n",
       "\n",
       "    .dataframe thead th {\n",
       "        text-align: right;\n",
       "    }\n",
       "</style>\n",
       "<table border=\"1\" class=\"dataframe\">\n",
       "  <thead>\n",
       "    <tr style=\"text-align: right;\">\n",
       "      <th></th>\n",
       "      <th>brain_16mo_rep1</th>\n",
       "      <th>brain_16mo_rep2</th>\n",
       "      <th>brain_16mo_rep3</th>\n",
       "      <th>brain_16mo_rep4</th>\n",
       "      <th>brain_16mo_rep5</th>\n",
       "      <th>brain_2mo_rep1</th>\n",
       "      <th>brain_2mo_rep2</th>\n",
       "      <th>brain_2mo_rep3</th>\n",
       "      <th>brain_2mo_rep4</th>\n",
       "      <th>brain_2mo_rep5</th>\n",
       "      <th>...</th>\n",
       "      <th>muscle_39mo_rep1</th>\n",
       "      <th>muscle_39mo_rep2</th>\n",
       "      <th>muscle_39mo_rep3</th>\n",
       "      <th>muscle_39mo_rep4</th>\n",
       "      <th>muscle_39mo_rep5</th>\n",
       "      <th>muscle_7mo_rep1</th>\n",
       "      <th>muscle_7mo_rep2</th>\n",
       "      <th>muscle_7mo_rep3</th>\n",
       "      <th>muscle_7mo_rep4</th>\n",
       "      <th>muscle_7mo_rep5</th>\n",
       "    </tr>\n",
       "    <tr>\n",
       "      <th>GeneID</th>\n",
       "      <th></th>\n",
       "      <th></th>\n",
       "      <th></th>\n",
       "      <th></th>\n",
       "      <th></th>\n",
       "      <th></th>\n",
       "      <th></th>\n",
       "      <th></th>\n",
       "      <th></th>\n",
       "      <th></th>\n",
       "      <th></th>\n",
       "      <th></th>\n",
       "      <th></th>\n",
       "      <th></th>\n",
       "      <th></th>\n",
       "      <th></th>\n",
       "      <th></th>\n",
       "      <th></th>\n",
       "      <th></th>\n",
       "      <th></th>\n",
       "      <th></th>\n",
       "    </tr>\n",
       "  </thead>\n",
       "  <tbody>\n",
       "    <tr>\n",
       "      <th>A2ML1 (1 of many)</th>\n",
       "      <td>2.003886</td>\n",
       "      <td>1.699349</td>\n",
       "      <td>1.709527</td>\n",
       "      <td>1.735342</td>\n",
       "      <td>1.719059</td>\n",
       "      <td>1.711328</td>\n",
       "      <td>2.084648</td>\n",
       "      <td>1.953139</td>\n",
       "      <td>2.354774</td>\n",
       "      <td>2.309915</td>\n",
       "      <td>...</td>\n",
       "      <td>1.590810</td>\n",
       "      <td>1.572585</td>\n",
       "      <td>1.677028</td>\n",
       "      <td>2.850064</td>\n",
       "      <td>3.084047</td>\n",
       "      <td>1.930746</td>\n",
       "      <td>8.288445</td>\n",
       "      <td>2.519180</td>\n",
       "      <td>1.637498</td>\n",
       "      <td>1.650748</td>\n",
       "    </tr>\n",
       "    <tr>\n",
       "      <th>ABCF3</th>\n",
       "      <td>3.406648</td>\n",
       "      <td>3.367878</td>\n",
       "      <td>3.121997</td>\n",
       "      <td>3.211761</td>\n",
       "      <td>3.580235</td>\n",
       "      <td>3.681889</td>\n",
       "      <td>4.194213</td>\n",
       "      <td>3.889060</td>\n",
       "      <td>3.032369</td>\n",
       "      <td>3.864999</td>\n",
       "      <td>...</td>\n",
       "      <td>6.817735</td>\n",
       "      <td>2.713141</td>\n",
       "      <td>2.042845</td>\n",
       "      <td>3.143494</td>\n",
       "      <td>2.734619</td>\n",
       "      <td>2.525217</td>\n",
       "      <td>4.043733</td>\n",
       "      <td>2.283221</td>\n",
       "      <td>2.963904</td>\n",
       "      <td>2.199464</td>\n",
       "    </tr>\n",
       "    <tr>\n",
       "      <th>ACOT12</th>\n",
       "      <td>3.486173</td>\n",
       "      <td>2.841191</td>\n",
       "      <td>3.844378</td>\n",
       "      <td>3.367892</td>\n",
       "      <td>3.649668</td>\n",
       "      <td>3.295562</td>\n",
       "      <td>3.557342</td>\n",
       "      <td>3.184319</td>\n",
       "      <td>4.044197</td>\n",
       "      <td>3.149275</td>\n",
       "      <td>...</td>\n",
       "      <td>3.375806</td>\n",
       "      <td>0.831841</td>\n",
       "      <td>0.281550</td>\n",
       "      <td>0.169860</td>\n",
       "      <td>0.101192</td>\n",
       "      <td>-0.539613</td>\n",
       "      <td>0.888150</td>\n",
       "      <td>-0.490532</td>\n",
       "      <td>-0.405902</td>\n",
       "      <td>-0.173364</td>\n",
       "    </tr>\n",
       "    <tr>\n",
       "      <th>ACSF3</th>\n",
       "      <td>0.642943</td>\n",
       "      <td>1.564790</td>\n",
       "      <td>1.291761</td>\n",
       "      <td>1.401428</td>\n",
       "      <td>1.117463</td>\n",
       "      <td>1.140322</td>\n",
       "      <td>1.519899</td>\n",
       "      <td>1.520216</td>\n",
       "      <td>1.514848</td>\n",
       "      <td>-1.025764</td>\n",
       "      <td>...</td>\n",
       "      <td>-0.006755</td>\n",
       "      <td>1.427482</td>\n",
       "      <td>-0.485476</td>\n",
       "      <td>0.733330</td>\n",
       "      <td>-0.325173</td>\n",
       "      <td>0.818976</td>\n",
       "      <td>1.537746</td>\n",
       "      <td>0.385791</td>\n",
       "      <td>-0.031601</td>\n",
       "      <td>-0.706022</td>\n",
       "    </tr>\n",
       "    <tr>\n",
       "      <th>ACTC1</th>\n",
       "      <td>-1.025764</td>\n",
       "      <td>-0.290542</td>\n",
       "      <td>-1.025764</td>\n",
       "      <td>-1.025764</td>\n",
       "      <td>-1.025764</td>\n",
       "      <td>-0.808841</td>\n",
       "      <td>-1.025764</td>\n",
       "      <td>-0.902833</td>\n",
       "      <td>-1.025764</td>\n",
       "      <td>-1.025764</td>\n",
       "      <td>...</td>\n",
       "      <td>7.088967</td>\n",
       "      <td>1.757899</td>\n",
       "      <td>1.439672</td>\n",
       "      <td>3.275330</td>\n",
       "      <td>2.601047</td>\n",
       "      <td>2.733269</td>\n",
       "      <td>2.659035</td>\n",
       "      <td>4.052598</td>\n",
       "      <td>5.246153</td>\n",
       "      <td>7.691827</td>\n",
       "    </tr>\n",
       "  </tbody>\n",
       "</table>\n",
       "<p>5 rows × 94 columns</p>\n",
       "</div>"
      ],
      "text/plain": [
       "                   brain_16mo_rep1  brain_16mo_rep2  brain_16mo_rep3  \\\n",
       "GeneID                                                                 \n",
       "A2ML1 (1 of many)         2.003886         1.699349         1.709527   \n",
       "ABCF3                     3.406648         3.367878         3.121997   \n",
       "ACOT12                    3.486173         2.841191         3.844378   \n",
       "ACSF3                     0.642943         1.564790         1.291761   \n",
       "ACTC1                    -1.025764        -0.290542        -1.025764   \n",
       "\n",
       "                   brain_16mo_rep4  brain_16mo_rep5  brain_2mo_rep1  \\\n",
       "GeneID                                                                \n",
       "A2ML1 (1 of many)         1.735342         1.719059        1.711328   \n",
       "ABCF3                     3.211761         3.580235        3.681889   \n",
       "ACOT12                    3.367892         3.649668        3.295562   \n",
       "ACSF3                     1.401428         1.117463        1.140322   \n",
       "ACTC1                    -1.025764        -1.025764       -0.808841   \n",
       "\n",
       "                   brain_2mo_rep2  brain_2mo_rep3  brain_2mo_rep4  \\\n",
       "GeneID                                                              \n",
       "A2ML1 (1 of many)        2.084648        1.953139        2.354774   \n",
       "ABCF3                    4.194213        3.889060        3.032369   \n",
       "ACOT12                   3.557342        3.184319        4.044197   \n",
       "ACSF3                    1.519899        1.520216        1.514848   \n",
       "ACTC1                   -1.025764       -0.902833       -1.025764   \n",
       "\n",
       "                   brain_2mo_rep5  ...  muscle_39mo_rep1  muscle_39mo_rep2  \\\n",
       "GeneID                             ...                                       \n",
       "A2ML1 (1 of many)        2.309915  ...          1.590810          1.572585   \n",
       "ABCF3                    3.864999  ...          6.817735          2.713141   \n",
       "ACOT12                   3.149275  ...          3.375806          0.831841   \n",
       "ACSF3                   -1.025764  ...         -0.006755          1.427482   \n",
       "ACTC1                   -1.025764  ...          7.088967          1.757899   \n",
       "\n",
       "                   muscle_39mo_rep3  muscle_39mo_rep4  muscle_39mo_rep5  \\\n",
       "GeneID                                                                    \n",
       "A2ML1 (1 of many)          1.677028          2.850064          3.084047   \n",
       "ABCF3                      2.042845          3.143494          2.734619   \n",
       "ACOT12                     0.281550          0.169860          0.101192   \n",
       "ACSF3                     -0.485476          0.733330         -0.325173   \n",
       "ACTC1                      1.439672          3.275330          2.601047   \n",
       "\n",
       "                   muscle_7mo_rep1  muscle_7mo_rep2  muscle_7mo_rep3  \\\n",
       "GeneID                                                                 \n",
       "A2ML1 (1 of many)         1.930746         8.288445         2.519180   \n",
       "ABCF3                     2.525217         4.043733         2.283221   \n",
       "ACOT12                   -0.539613         0.888150        -0.490532   \n",
       "ACSF3                     0.818976         1.537746         0.385791   \n",
       "ACTC1                     2.733269         2.659035         4.052598   \n",
       "\n",
       "                   muscle_7mo_rep4  muscle_7mo_rep5  \n",
       "GeneID                                               \n",
       "A2ML1 (1 of many)         1.637498         1.650748  \n",
       "ABCF3                     2.963904         2.199464  \n",
       "ACOT12                   -0.405902        -0.173364  \n",
       "ACSF3                    -0.031601        -0.706022  \n",
       "ACTC1                     5.246153         7.691827  \n",
       "\n",
       "[5 rows x 94 columns]"
      ]
     },
     "execution_count": 61,
     "metadata": {},
     "output_type": "execute_result"
    }
   ],
   "source": [
    "# load dataset\n",
    "expression_df = pd.read_csv('./data/gene_expression.tab', sep='\\t', index_col=0)\n",
    "data = expression_df.values\n",
    "expression_df.head()"
   ]
  },
  {
   "cell_type": "code",
   "execution_count": 3,
   "id": "elect-inspector",
   "metadata": {},
   "outputs": [
    {
     "data": {
      "text/html": [
       "<div>\n",
       "<style scoped>\n",
       "    .dataframe tbody tr th:only-of-type {\n",
       "        vertical-align: middle;\n",
       "    }\n",
       "\n",
       "    .dataframe tbody tr th {\n",
       "        vertical-align: top;\n",
       "    }\n",
       "\n",
       "    .dataframe thead th {\n",
       "        text-align: right;\n",
       "    }\n",
       "</style>\n",
       "<table border=\"1\" class=\"dataframe\">\n",
       "  <thead>\n",
       "    <tr style=\"text-align: right;\">\n",
       "      <th></th>\n",
       "      <th>tissue</th>\n",
       "      <th>age</th>\n",
       "      <th>replicate</th>\n",
       "    </tr>\n",
       "  </thead>\n",
       "  <tbody>\n",
       "    <tr>\n",
       "      <th>0</th>\n",
       "      <td>brain</td>\n",
       "      <td>16mo</td>\n",
       "      <td>rep1</td>\n",
       "    </tr>\n",
       "    <tr>\n",
       "      <th>1</th>\n",
       "      <td>brain</td>\n",
       "      <td>16mo</td>\n",
       "      <td>rep2</td>\n",
       "    </tr>\n",
       "    <tr>\n",
       "      <th>2</th>\n",
       "      <td>brain</td>\n",
       "      <td>16mo</td>\n",
       "      <td>rep3</td>\n",
       "    </tr>\n",
       "    <tr>\n",
       "      <th>3</th>\n",
       "      <td>brain</td>\n",
       "      <td>16mo</td>\n",
       "      <td>rep4</td>\n",
       "    </tr>\n",
       "    <tr>\n",
       "      <th>4</th>\n",
       "      <td>brain</td>\n",
       "      <td>16mo</td>\n",
       "      <td>rep5</td>\n",
       "    </tr>\n",
       "  </tbody>\n",
       "</table>\n",
       "</div>"
      ],
      "text/plain": [
       "  tissue   age replicate\n",
       "0  brain  16mo      rep1\n",
       "1  brain  16mo      rep2\n",
       "2  brain  16mo      rep3\n",
       "3  brain  16mo      rep4\n",
       "4  brain  16mo      rep5"
      ]
     },
     "execution_count": 3,
     "metadata": {},
     "output_type": "execute_result"
    }
   ],
   "source": [
    "# make DataFrame for column attributes\n",
    "ca = pd.DataFrame([c.split('_') for c in expression_df.columns], \n",
    "                  columns=['tissue', 'age', 'replicate'])\n",
    "ca.head()"
   ]
  },
  {
   "cell_type": "code",
   "execution_count": 4,
   "id": "clear-vacation",
   "metadata": {},
   "outputs": [
    {
     "name": "stdout",
     "output_type": "stream",
     "text": [
      "['brain' 'gill' 'heart' 'liver' 'muscle']\n",
      "['16mo' '2mo' '39mo' '7mo']\n"
     ]
    }
   ],
   "source": [
    "print(ca.tissue.unique())\n",
    "print(ca.age.unique())"
   ]
  },
  {
   "cell_type": "code",
   "execution_count": 5,
   "id": "infinite-clinton",
   "metadata": {
    "scrolled": true
   },
   "outputs": [
    {
     "data": {
      "text/html": [
       "<div>\n",
       "<style scoped>\n",
       "    .dataframe tbody tr th:only-of-type {\n",
       "        vertical-align: middle;\n",
       "    }\n",
       "\n",
       "    .dataframe tbody tr th {\n",
       "        vertical-align: top;\n",
       "    }\n",
       "\n",
       "    .dataframe thead th {\n",
       "        text-align: right;\n",
       "    }\n",
       "</style>\n",
       "<table border=\"1\" class=\"dataframe\">\n",
       "  <thead>\n",
       "    <tr style=\"text-align: right;\">\n",
       "      <th></th>\n",
       "      <th></th>\n",
       "      <th>replicate</th>\n",
       "    </tr>\n",
       "    <tr>\n",
       "      <th>tissue</th>\n",
       "      <th>age</th>\n",
       "      <th></th>\n",
       "    </tr>\n",
       "  </thead>\n",
       "  <tbody>\n",
       "    <tr>\n",
       "      <th rowspan=\"4\" valign=\"top\">brain</th>\n",
       "      <th>16mo</th>\n",
       "      <td>5</td>\n",
       "    </tr>\n",
       "    <tr>\n",
       "      <th>2mo</th>\n",
       "      <td>5</td>\n",
       "    </tr>\n",
       "    <tr>\n",
       "      <th>39mo</th>\n",
       "      <td>5</td>\n",
       "    </tr>\n",
       "    <tr>\n",
       "      <th>7mo</th>\n",
       "      <td>5</td>\n",
       "    </tr>\n",
       "    <tr>\n",
       "      <th rowspan=\"4\" valign=\"top\">gill</th>\n",
       "      <th>16mo</th>\n",
       "      <td>5</td>\n",
       "    </tr>\n",
       "    <tr>\n",
       "      <th>2mo</th>\n",
       "      <td>5</td>\n",
       "    </tr>\n",
       "    <tr>\n",
       "      <th>39mo</th>\n",
       "      <td>5</td>\n",
       "    </tr>\n",
       "    <tr>\n",
       "      <th>7mo</th>\n",
       "      <td>5</td>\n",
       "    </tr>\n",
       "    <tr>\n",
       "      <th rowspan=\"3\" valign=\"top\">heart</th>\n",
       "      <th>16mo</th>\n",
       "      <td>5</td>\n",
       "    </tr>\n",
       "    <tr>\n",
       "      <th>39mo</th>\n",
       "      <td>4</td>\n",
       "    </tr>\n",
       "    <tr>\n",
       "      <th>7mo</th>\n",
       "      <td>5</td>\n",
       "    </tr>\n",
       "    <tr>\n",
       "      <th rowspan=\"4\" valign=\"top\">liver</th>\n",
       "      <th>16mo</th>\n",
       "      <td>5</td>\n",
       "    </tr>\n",
       "    <tr>\n",
       "      <th>2mo</th>\n",
       "      <td>5</td>\n",
       "    </tr>\n",
       "    <tr>\n",
       "      <th>39mo</th>\n",
       "      <td>5</td>\n",
       "    </tr>\n",
       "    <tr>\n",
       "      <th>7mo</th>\n",
       "      <td>5</td>\n",
       "    </tr>\n",
       "    <tr>\n",
       "      <th rowspan=\"4\" valign=\"top\">muscle</th>\n",
       "      <th>16mo</th>\n",
       "      <td>5</td>\n",
       "    </tr>\n",
       "    <tr>\n",
       "      <th>2mo</th>\n",
       "      <td>5</td>\n",
       "    </tr>\n",
       "    <tr>\n",
       "      <th>39mo</th>\n",
       "      <td>5</td>\n",
       "    </tr>\n",
       "    <tr>\n",
       "      <th>7mo</th>\n",
       "      <td>5</td>\n",
       "    </tr>\n",
       "  </tbody>\n",
       "</table>\n",
       "</div>"
      ],
      "text/plain": [
       "             replicate\n",
       "tissue age            \n",
       "brain  16mo          5\n",
       "       2mo           5\n",
       "       39mo          5\n",
       "       7mo           5\n",
       "gill   16mo          5\n",
       "       2mo           5\n",
       "       39mo          5\n",
       "       7mo           5\n",
       "heart  16mo          5\n",
       "       39mo          4\n",
       "       7mo           5\n",
       "liver  16mo          5\n",
       "       2mo           5\n",
       "       39mo          5\n",
       "       7mo           5\n",
       "muscle 16mo          5\n",
       "       2mo           5\n",
       "       39mo          5\n",
       "       7mo           5"
      ]
     },
     "execution_count": 5,
     "metadata": {},
     "output_type": "execute_result"
    }
   ],
   "source": [
    "ca.groupby(['tissue', 'age']).count()"
   ]
  },
  {
   "cell_type": "code",
   "execution_count": 82,
   "id": "hungry-atlas",
   "metadata": {},
   "outputs": [
    {
     "data": {
      "text/html": [
       "<div>\n",
       "<style scoped>\n",
       "    .dataframe tbody tr th:only-of-type {\n",
       "        vertical-align: middle;\n",
       "    }\n",
       "\n",
       "    .dataframe tbody tr th {\n",
       "        vertical-align: top;\n",
       "    }\n",
       "\n",
       "    .dataframe thead th {\n",
       "        text-align: right;\n",
       "    }\n",
       "</style>\n",
       "<table border=\"1\" class=\"dataframe\">\n",
       "  <thead>\n",
       "    <tr style=\"text-align: right;\">\n",
       "      <th></th>\n",
       "      <th>tissue</th>\n",
       "      <th>age</th>\n",
       "      <th>replicate</th>\n",
       "    </tr>\n",
       "  </thead>\n",
       "  <tbody>\n",
       "    <tr>\n",
       "      <th>40</th>\n",
       "      <td>heart</td>\n",
       "      <td>16mo</td>\n",
       "      <td>rep1</td>\n",
       "    </tr>\n",
       "    <tr>\n",
       "      <th>41</th>\n",
       "      <td>heart</td>\n",
       "      <td>16mo</td>\n",
       "      <td>rep2</td>\n",
       "    </tr>\n",
       "    <tr>\n",
       "      <th>42</th>\n",
       "      <td>heart</td>\n",
       "      <td>16mo</td>\n",
       "      <td>rep3</td>\n",
       "    </tr>\n",
       "    <tr>\n",
       "      <th>43</th>\n",
       "      <td>heart</td>\n",
       "      <td>16mo</td>\n",
       "      <td>rep4</td>\n",
       "    </tr>\n",
       "    <tr>\n",
       "      <th>44</th>\n",
       "      <td>heart</td>\n",
       "      <td>16mo</td>\n",
       "      <td>rep5</td>\n",
       "    </tr>\n",
       "    <tr>\n",
       "      <th>45</th>\n",
       "      <td>heart</td>\n",
       "      <td>39mo</td>\n",
       "      <td>rep1</td>\n",
       "    </tr>\n",
       "    <tr>\n",
       "      <th>46</th>\n",
       "      <td>heart</td>\n",
       "      <td>39mo</td>\n",
       "      <td>rep2</td>\n",
       "    </tr>\n",
       "    <tr>\n",
       "      <th>47</th>\n",
       "      <td>heart</td>\n",
       "      <td>39mo</td>\n",
       "      <td>rep3</td>\n",
       "    </tr>\n",
       "    <tr>\n",
       "      <th>48</th>\n",
       "      <td>heart</td>\n",
       "      <td>39mo</td>\n",
       "      <td>rep4</td>\n",
       "    </tr>\n",
       "    <tr>\n",
       "      <th>49</th>\n",
       "      <td>heart</td>\n",
       "      <td>7mo</td>\n",
       "      <td>rep1</td>\n",
       "    </tr>\n",
       "    <tr>\n",
       "      <th>50</th>\n",
       "      <td>heart</td>\n",
       "      <td>7mo</td>\n",
       "      <td>rep2</td>\n",
       "    </tr>\n",
       "    <tr>\n",
       "      <th>51</th>\n",
       "      <td>heart</td>\n",
       "      <td>7mo</td>\n",
       "      <td>rep3</td>\n",
       "    </tr>\n",
       "    <tr>\n",
       "      <th>52</th>\n",
       "      <td>heart</td>\n",
       "      <td>7mo</td>\n",
       "      <td>rep4</td>\n",
       "    </tr>\n",
       "    <tr>\n",
       "      <th>53</th>\n",
       "      <td>heart</td>\n",
       "      <td>7mo</td>\n",
       "      <td>rep5</td>\n",
       "    </tr>\n",
       "  </tbody>\n",
       "</table>\n",
       "</div>"
      ],
      "text/plain": [
       "   tissue   age replicate\n",
       "40  heart  16mo      rep1\n",
       "41  heart  16mo      rep2\n",
       "42  heart  16mo      rep3\n",
       "43  heart  16mo      rep4\n",
       "44  heart  16mo      rep5\n",
       "45  heart  39mo      rep1\n",
       "46  heart  39mo      rep2\n",
       "47  heart  39mo      rep3\n",
       "48  heart  39mo      rep4\n",
       "49  heart   7mo      rep1\n",
       "50  heart   7mo      rep2\n",
       "51  heart   7mo      rep3\n",
       "52  heart   7mo      rep4\n",
       "53  heart   7mo      rep5"
      ]
     },
     "execution_count": 82,
     "metadata": {},
     "output_type": "execute_result"
    }
   ],
   "source": [
    "ca[ca.tissue=='heart']"
   ]
  },
  {
   "cell_type": "markdown",
   "id": "sensitive-transsexual",
   "metadata": {},
   "source": [
    "# Inferring marker genes"
   ]
  },
  {
   "cell_type": "markdown",
   "id": "north-caution",
   "metadata": {},
   "source": [
    "Find marker genes that differentiate heart from muscle"
   ]
  },
  {
   "cell_type": "code",
   "execution_count": 43,
   "id": "focal-platform",
   "metadata": {},
   "outputs": [],
   "source": [
    "file = '/scicore/home/nimwegen/reldor00/projects/zebrafish/MARA/running_MARA/age_associated_tissues/posterior_mean/expression.tab'\n",
    "expression_df = pd.read_csv(file, sep='\\t', index_col=0)\n",
    "data = expression_df.values"
   ]
  },
  {
   "cell_type": "code",
   "execution_count": 107,
   "id": "magnetic-immune",
   "metadata": {},
   "outputs": [],
   "source": [
    "# define groups that are compared against each other\n",
    "groups = [np.flatnonzero(ca.tissue=='heart'), np.flatnonzero(ca.tissue=='muscle')]\n",
    "groups = [[0,1,2,3,4], [5,6,7,8,9]]\n",
    "groups = [[74,75,76,77,78],[79,80,81,82,83]]\n",
    "groups = [[40,41,42,43,44],[45,46,47,49]]\n",
    "# relative a priori size of different groups,\n",
    "# discounting potential differences in no. of replicates\n",
    "nc = [1,1]"
   ]
  },
  {
   "cell_type": "code",
   "execution_count": 108,
   "id": "after-interest",
   "metadata": {},
   "outputs": [
    {
     "data": {
      "text/plain": [
       "[(0.6588643001488221, 0.38160625952724436),\n",
       " (2.4233613071196642, 1.3804295046590136)]"
      ]
     },
     "execution_count": 108,
     "metadata": {},
     "output_type": "execute_result"
    }
   ],
   "source": [
    "params = [prior_params(data[group]) for group in groups]\n",
    "params"
   ]
  },
  {
   "cell_type": "code",
   "execution_count": 167,
   "id": "substantial-respect",
   "metadata": {},
   "outputs": [],
   "source": [
    "# calculate conditional class entropy\n",
    "# the parameters k, N determine how accurately the integrals are calculated\n",
    "# one can start with smaller values and see how much of a difference it makes\n",
    "H_result = entropy(data, groups, ncond=nc, k=6, N=1e2)"
   ]
  },
  {
   "cell_type": "code",
   "execution_count": 168,
   "id": "exclusive-paintball",
   "metadata": {},
   "outputs": [],
   "source": [
    "# when there are only two classes, we can invert the entropy function\n",
    "# H=p*log(p) and infer the probability p of misclassification given gene expression a measurement\n",
    "# The function find_error_probability is an analytical solution valid only for small p \n",
    "p_result = find_error_probability(H_result)"
   ]
  },
  {
   "cell_type": "code",
   "execution_count": 169,
   "id": "global-portuguese",
   "metadata": {
    "scrolled": true
   },
   "outputs": [
    {
     "data": {
      "text/html": [
       "<div>\n",
       "<style scoped>\n",
       "    .dataframe tbody tr th:only-of-type {\n",
       "        vertical-align: middle;\n",
       "    }\n",
       "\n",
       "    .dataframe tbody tr th {\n",
       "        vertical-align: top;\n",
       "    }\n",
       "\n",
       "    .dataframe thead th {\n",
       "        text-align: right;\n",
       "    }\n",
       "</style>\n",
       "<table border=\"1\" class=\"dataframe\">\n",
       "  <thead>\n",
       "    <tr style=\"text-align: right;\">\n",
       "      <th></th>\n",
       "      <th>H(c|x)</th>\n",
       "      <th>p_e</th>\n",
       "    </tr>\n",
       "    <tr>\n",
       "      <th>GeneID</th>\n",
       "      <th></th>\n",
       "      <th></th>\n",
       "    </tr>\n",
       "  </thead>\n",
       "  <tbody>\n",
       "    <tr>\n",
       "      <th>pimr171</th>\n",
       "      <td>-0.051641</td>\n",
       "      <td>-0.006278+0.003936j</td>\n",
       "    </tr>\n",
       "    <tr>\n",
       "      <th>or103-3</th>\n",
       "      <td>-0.051641</td>\n",
       "      <td>-0.006278+0.003936j</td>\n",
       "    </tr>\n",
       "    <tr>\n",
       "      <th>si:dkeyp-46h3.5</th>\n",
       "      <td>-0.051641</td>\n",
       "      <td>-0.006278+0.003936j</td>\n",
       "    </tr>\n",
       "    <tr>\n",
       "      <th>lgals9l5</th>\n",
       "      <td>-0.051641</td>\n",
       "      <td>-0.006278+0.003936j</td>\n",
       "    </tr>\n",
       "    <tr>\n",
       "      <th>CR382300.2</th>\n",
       "      <td>-0.051641</td>\n",
       "      <td>-0.006278+0.003936j</td>\n",
       "    </tr>\n",
       "    <tr>\n",
       "      <th>or103-4</th>\n",
       "      <td>-0.051641</td>\n",
       "      <td>-0.006278+0.003936j</td>\n",
       "    </tr>\n",
       "    <tr>\n",
       "      <th>si:ch211-225k7.5</th>\n",
       "      <td>-0.051640</td>\n",
       "      <td>-0.006278+0.003936j</td>\n",
       "    </tr>\n",
       "    <tr>\n",
       "      <th>si:ch73-46n24.1</th>\n",
       "      <td>-0.051640</td>\n",
       "      <td>-0.006278+0.003935j</td>\n",
       "    </tr>\n",
       "    <tr>\n",
       "      <th>pax6a</th>\n",
       "      <td>-0.024280</td>\n",
       "      <td>-0.002787+0.001500j</td>\n",
       "    </tr>\n",
       "    <tr>\n",
       "      <th>camk2b2</th>\n",
       "      <td>-0.024280</td>\n",
       "      <td>-0.002787+0.001500j</td>\n",
       "    </tr>\n",
       "    <tr>\n",
       "      <th>cacnb2b</th>\n",
       "      <td>-0.024280</td>\n",
       "      <td>-0.002787+0.001500j</td>\n",
       "    </tr>\n",
       "    <tr>\n",
       "      <th>pimr204</th>\n",
       "      <td>-0.024280</td>\n",
       "      <td>-0.002787+0.001500j</td>\n",
       "    </tr>\n",
       "    <tr>\n",
       "      <th>kcnc2</th>\n",
       "      <td>-0.024280</td>\n",
       "      <td>-0.002787+0.001500j</td>\n",
       "    </tr>\n",
       "    <tr>\n",
       "      <th>ttbk1b</th>\n",
       "      <td>-0.024280</td>\n",
       "      <td>-0.002787+0.001500j</td>\n",
       "    </tr>\n",
       "    <tr>\n",
       "      <th>pimr98</th>\n",
       "      <td>-0.024280</td>\n",
       "      <td>-0.002787+0.001500j</td>\n",
       "    </tr>\n",
       "    <tr>\n",
       "      <th>slc23a3</th>\n",
       "      <td>-0.024280</td>\n",
       "      <td>-0.002787+0.001500j</td>\n",
       "    </tr>\n",
       "    <tr>\n",
       "      <th>nptx2a</th>\n",
       "      <td>-0.024280</td>\n",
       "      <td>-0.002787+0.001500j</td>\n",
       "    </tr>\n",
       "    <tr>\n",
       "      <th>frmd3</th>\n",
       "      <td>-0.024280</td>\n",
       "      <td>-0.002787+0.001500j</td>\n",
       "    </tr>\n",
       "    <tr>\n",
       "      <th>cngk</th>\n",
       "      <td>-0.024280</td>\n",
       "      <td>-0.002787+0.001500j</td>\n",
       "    </tr>\n",
       "    <tr>\n",
       "      <th>slc1a2a</th>\n",
       "      <td>-0.024280</td>\n",
       "      <td>-0.002787+0.001500j</td>\n",
       "    </tr>\n",
       "  </tbody>\n",
       "</table>\n",
       "</div>"
      ],
      "text/plain": [
       "                    H(c|x)                 p_e\n",
       "GeneID                                        \n",
       "pimr171          -0.051641 -0.006278+0.003936j\n",
       "or103-3          -0.051641 -0.006278+0.003936j\n",
       "si:dkeyp-46h3.5  -0.051641 -0.006278+0.003936j\n",
       "lgals9l5         -0.051641 -0.006278+0.003936j\n",
       "CR382300.2       -0.051641 -0.006278+0.003936j\n",
       "or103-4          -0.051641 -0.006278+0.003936j\n",
       "si:ch211-225k7.5 -0.051640 -0.006278+0.003936j\n",
       "si:ch73-46n24.1  -0.051640 -0.006278+0.003935j\n",
       "pax6a            -0.024280 -0.002787+0.001500j\n",
       "camk2b2          -0.024280 -0.002787+0.001500j\n",
       "cacnb2b          -0.024280 -0.002787+0.001500j\n",
       "pimr204          -0.024280 -0.002787+0.001500j\n",
       "kcnc2            -0.024280 -0.002787+0.001500j\n",
       "ttbk1b           -0.024280 -0.002787+0.001500j\n",
       "pimr98           -0.024280 -0.002787+0.001500j\n",
       "slc23a3          -0.024280 -0.002787+0.001500j\n",
       "nptx2a           -0.024280 -0.002787+0.001500j\n",
       "frmd3            -0.024280 -0.002787+0.001500j\n",
       "cngk             -0.024280 -0.002787+0.001500j\n",
       "slc1a2a          -0.024280 -0.002787+0.001500j"
      ]
     },
     "execution_count": 169,
     "metadata": {},
     "output_type": "execute_result"
    }
   ],
   "source": [
    "# create sorted list of top marker genes\n",
    "df_result = pd.DataFrame({'H(c|x)':H_result, 'p_e':p_result}, index=expression_df.index)\n",
    "df_result = df_result.sort_values(by='p_e')\n",
    "df_result.head(20)"
   ]
  },
  {
   "cell_type": "code",
   "execution_count": 170,
   "id": "after-growth",
   "metadata": {},
   "outputs": [
    {
     "data": {
      "text/plain": [
       "[(0.6588643001488221, 0.38160625952724436),\n",
       " (2.4233613071196642, 1.3804295046590136)]"
      ]
     },
     "execution_count": 170,
     "metadata": {},
     "output_type": "execute_result"
    }
   ],
   "source": [
    "params"
   ]
  },
  {
   "cell_type": "code",
   "execution_count": 171,
   "id": "simplified-somalia",
   "metadata": {},
   "outputs": [],
   "source": [
    "gene = 'pimr171'"
   ]
  },
  {
   "cell_type": "code",
   "execution_count": 172,
   "id": "static-explanation",
   "metadata": {},
   "outputs": [
    {
     "name": "stdout",
     "output_type": "stream",
     "text": [
      "0.34756998094396957\n",
      "-2.025764487690599\n"
     ]
    },
    {
     "data": {
      "text/plain": [
       "heart_16mo_rep1   -2.025764\n",
       "heart_16mo_rep2   -2.025764\n",
       "heart_16mo_rep3   -2.025764\n",
       "heart_16mo_rep4   -2.025764\n",
       "heart_16mo_rep5   -2.025764\n",
       "Name: pimr171, dtype: float64"
      ]
     },
     "execution_count": 172,
     "metadata": {},
     "output_type": "execute_result"
    }
   ],
   "source": [
    "gp = 0\n",
    "x = expression_df.loc[gene][groups[gp]]\n",
    "print(std_eff(x, params[gp][0], params[gp][1]))\n",
    "print(x.mean())\n",
    "x"
   ]
  },
  {
   "cell_type": "code",
   "execution_count": 173,
   "id": "future-crack",
   "metadata": {},
   "outputs": [
    {
     "name": "stdout",
     "output_type": "stream",
     "text": [
      "0.5586385595756356\n",
      "-2.0257644876905982\n"
     ]
    },
    {
     "data": {
      "text/plain": [
       "heart_39mo_rep1   -2.025764\n",
       "heart_39mo_rep2   -2.025764\n",
       "heart_39mo_rep3   -2.025764\n",
       "heart_7mo_rep1    -2.025764\n",
       "Name: pimr171, dtype: float64"
      ]
     },
     "execution_count": 173,
     "metadata": {},
     "output_type": "execute_result"
    }
   ],
   "source": [
    "gp = 1\n",
    "x = expression_df.loc[gene][groups[gp]]\n",
    "print(std_eff(x, params[gp][0], params[gp][1]))\n",
    "print(x.mean())\n",
    "x"
   ]
  },
  {
   "cell_type": "code",
   "execution_count": 174,
   "id": "african-sally",
   "metadata": {},
   "outputs": [
    {
     "data": {
      "text/plain": [
       "H(c|x)   -0.051641+0.000000j\n",
       "p_e      -0.006278+0.003936j\n",
       "Name: pimr171, dtype: complex128"
      ]
     },
     "execution_count": 174,
     "metadata": {},
     "output_type": "execute_result"
    }
   ],
   "source": [
    "df_result.loc[gene]"
   ]
  },
  {
   "cell_type": "code",
   "execution_count": 175,
   "id": "solid-walnut",
   "metadata": {},
   "outputs": [],
   "source": [
    "g = np.flatnonzero(expression_df.index==gene)[0]"
   ]
  },
  {
   "cell_type": "code",
   "execution_count": 200,
   "id": "modified-trigger",
   "metadata": {},
   "outputs": [
    {
     "name": "stdout",
     "output_type": "stream",
     "text": [
      "-2.025764487690599 12.82356037392207\n",
      "-2.0257644876905982 10.644174838288833\n"
     ]
    }
   ],
   "source": [
    "nc=[1,1]\n",
    "prior_c = np.array(nc)/sum(nc)\n",
    "all_c = groups\n",
    "all_alpha = [p[0] for p in params]\n",
    "all_beta = [p[1] for p in params]\n",
    "\n",
    "from scipy.special import gamma\n",
    "\n",
    "P_xgc = []\n",
    "\n",
    "P_params = []\n",
    "\n",
    "for c, alphac, betac in zip(all_c, all_alpha, all_beta):\n",
    "    datac = data[g, c]\n",
    "    varc = datac.var(axis=-1)\n",
    "    Nc = len(c)  # size of class c\n",
    "    Vc = (Nc + 1)*(varc + 2*betac/Nc)\n",
    "    xc = datac.mean(axis=-1)\n",
    "    gc = alphac + (Nc - 1)/2\n",
    "    Zc = gamma(gc) / (np.sqrt(Vc*np.pi) * gamma(gc-0.5))    \n",
    "    \n",
    "    P_params.append([Zc, xc, Vc, gc])\n",
    "\n",
    "    k=6\n",
    "    xd = np.sqrt(Vc * (-1 + 10**(k/gc)))\n",
    "    print(xc, xd)\n",
    "\n",
    "def P_xgc(x, c):\n",
    "    \"\"\"P(x|c)\"\"\"\n",
    "    Zc, xc, Vc, gc = P_params[c]\n",
    "    return Zc * np.power((1 + (x - xc)**2 / Vc), -gc)\n",
    "\n",
    "def P_x(x):\n",
    "    \"\"\"P(x)\"\"\"\n",
    "    res = np.zeros_like(x)\n",
    "    for c in range(len(all_c)):\n",
    "        res += P_xgc(x, c)*prior_c[c]\n",
    "    return res\n",
    "    \n",
    "    \n",
    "# def integrand(xx):\n",
    "#     Psum = np.sum(prior_c[:, None] *\n",
    "#                   np.array([P(xx, cc, a, b) for cc, a, b\n",
    "#                             in zip(all_c, all_alpha, all_beta)]),\n",
    "#                   axis=0)\n",
    "#     return - P(xx, c, alphac, betac)*np.log(Psum)"
   ]
  },
  {
   "cell_type": "code",
   "execution_count": 201,
   "id": "interesting-voluntary",
   "metadata": {},
   "outputs": [],
   "source": [
    "N_g = data.shape[0]"
   ]
  },
  {
   "cell_type": "code",
   "execution_count": 202,
   "id": "latter-candidate",
   "metadata": {},
   "outputs": [
    {
     "data": {
      "text/plain": [
       "[<matplotlib.lines.Line2D at 0x7f7abc838208>]"
      ]
     },
     "execution_count": 202,
     "metadata": {},
     "output_type": "execute_result"
    },
    {
     "data": {
      "image/png": "[encoded data removed]",
      "text/plain": [
       "<Figure size 432x288 with 1 Axes>"
      ]
     },
     "metadata": {
      "needs_background": "light"
     },
     "output_type": "display_data"
    }
   ],
   "source": [
    "x = np.linspace(-8, 4, 1000)\n",
    "plt.plot(x, P_xgc(x,0))\n",
    "plt.plot(x, P_xgc(x,1))"
   ]
  },
  {
   "cell_type": "code",
   "execution_count": 203,
   "id": "alternative-farming",
   "metadata": {},
   "outputs": [
    {
     "data": {
      "text/plain": [
       "[<matplotlib.lines.Line2D at 0x7f7abc7ee828>]"
      ]
     },
     "execution_count": 203,
     "metadata": {},
     "output_type": "execute_result"
    },
    {
     "data": {
      "image/png": "[encoded data removed]",
      "text/plain": [
       "<Figure size 432x288 with 1 Axes>"
      ]
     },
     "metadata": {
      "needs_background": "light"
     },
     "output_type": "display_data"
    }
   ],
   "source": [
    "x = np.linspace(-8, 4, 1000)\n",
    "plt.plot(x, P_x(x))"
   ]
  },
  {
   "cell_type": "code",
   "execution_count": 204,
   "id": "separated-treasurer",
   "metadata": {},
   "outputs": [
    {
     "data": {
      "text/plain": [
       "[<matplotlib.lines.Line2D at 0x7f7abc754358>]"
      ]
     },
     "execution_count": 204,
     "metadata": {},
     "output_type": "execute_result"
    },
    {
     "data": {
      "image/png": "[encoded data removed]",
      "text/plain": [
       "<Figure size 432x288 with 1 Axes>"
      ]
     },
     "metadata": {
      "needs_background": "light"
     },
     "output_type": "display_data"
    }
   ],
   "source": [
    "x = np.linspace(-8, 4, 1000)\n",
    "plt.plot(x, np.log(P_x(x)))"
   ]
  },
  {
   "cell_type": "code",
   "execution_count": 205,
   "id": "palestinian-reggae",
   "metadata": {},
   "outputs": [
    {
     "data": {
      "text/plain": [
       "[<matplotlib.lines.Line2D at 0x7f7abc7324a8>]"
      ]
     },
     "execution_count": 205,
     "metadata": {},
     "output_type": "execute_result"
    },
    {
     "data": {
      "image/png": "[encoded data removed]",
      "text/plain": [
       "<Figure size 432x288 with 1 Axes>"
      ]
     },
     "metadata": {
      "needs_background": "light"
     },
     "output_type": "display_data"
    }
   ],
   "source": [
    "x = np.linspace(-8, 4, 1000)\n",
    "plt.plot(x, P_x(x)*np.log(P_x(x)))"
   ]
  },
  {
   "cell_type": "code",
   "execution_count": 207,
   "id": "swiss-swiss",
   "metadata": {},
   "outputs": [
    {
     "data": {
      "text/plain": [
       "[[0.8178818230596822,\n",
       "  -2.025764487690599,\n",
       "  0.9158550228653866,\n",
       "  2.658864300148822],\n",
       " [0.5418406474003661,\n",
       "  -2.0257644876905982,\n",
       "  3.451073761647534,\n",
       "  3.9233613071196642]]"
      ]
     },
     "execution_count": 207,
     "metadata": {},
     "output_type": "execute_result"
    }
   ],
   "source": [
    "# Zc, xc, Vc, gc\n",
    "P_params"
   ]
  },
  {
   "cell_type": "code",
   "execution_count": 206,
   "id": "orange-montgomery",
   "metadata": {},
   "outputs": [
    {
     "data": {
      "text/plain": [
       "[<matplotlib.lines.Line2D at 0x7f7abc6d10f0>]"
      ]
     },
     "execution_count": 206,
     "metadata": {},
     "output_type": "execute_result"
    },
    {
     "data": {
      "image/png": "[encoded data removed]",
      "text/plain": [
       "<Figure size 432x288 with 1 Axes>"
      ]
     },
     "metadata": {
      "needs_background": "light"
     },
     "output_type": "display_data"
    }
   ],
   "source": [
    "x = np.linspace(-8, 4, 1000)\n",
    "plt.plot(x, P_x(x)*np.log(P_xgc(x,0)))\n",
    "plt.plot(x, P_x(x)*np.log(P_xgc(x,1)))"
   ]
  },
  {
   "cell_type": "code",
   "execution_count": 208,
   "id": "aware-crown",
   "metadata": {},
   "outputs": [
    {
     "data": {
      "text/plain": [
       "-1.0755986085151186"
      ]
     },
     "execution_count": 208,
     "metadata": {},
     "output_type": "execute_result"
    }
   ],
   "source": [
    "# H(x)\n",
    "np.sum(P_x(x)*np.log(P_x(x)))*12/1000"
   ]
  },
  {
   "cell_type": "code",
   "execution_count": 209,
   "id": "provincial-glossary",
   "metadata": {},
   "outputs": [
    {
     "data": {
      "text/plain": [
       "-1.7470381310729837"
      ]
     },
     "execution_count": 209,
     "metadata": {},
     "output_type": "execute_result"
    }
   ],
   "source": [
    "# H(x,c)\n",
    "prior_c[0]*np.sum(P_xgc(x,0)*np.log(prior_c[0]*P_xgc(x,0)))*12/1000 + \\\n",
    "prior_c[1]*np.sum(P_xgc(x,1)*np.log(prior_c[1]*P_xgc(x,1)))*12/1000"
   ]
  },
  {
   "cell_type": "code",
   "execution_count": null,
   "id": "environmental-match",
   "metadata": {},
   "outputs": [],
   "source": []
  },
  {
   "cell_type": "code",
   "execution_count": 82,
   "id": "continuous-substitute",
   "metadata": {},
   "outputs": [],
   "source": [
    "from scipy.special import gamma, digamma"
   ]
  },
  {
   "cell_type": "code",
   "execution_count": null,
   "id": "previous-balloon",
   "metadata": {},
   "outputs": [],
   "source": [
    "params[]"
   ]
  },
  {
   "cell_type": "code",
   "execution_count": 90,
   "id": "afraid-disclaimer",
   "metadata": {},
   "outputs": [
    {
     "name": "stdout",
     "output_type": "stream",
     "text": [
      "-0.6155487461773373 0.18831248371724862 6.949863983908297 3.2385635170975324\n"
     ]
    }
   ],
   "source": [
    "g = np.flatnonzero(df.index==gene)[0]\n",
    "\n",
    "for c, (alphac, betac) in zip(groups, params):   \n",
    "    datac = data[g, c]\n",
    "    nc = len(c)\n",
    "    varc = datac.var()\n",
    "    Vc = (nc + 1)*(varc + 2*betac/nc)\n",
    "#     Vc = np.logspace(-3, 1, num=10)\n",
    "    gc = alphac + (nc - 1)/2\n",
    "    Zc = gamma(gc) / (np.sqrt(Vc*np.pi) * gamma(gc-0.5))\n",
    "    H_xc = -np.log(Zc) + gc*(digamma(gc) - digamma(gc - 0.5))\n",
    "#     plt.plot(Vc, H_xc)\n",
    "    print(H_xc, Vc, gc, Zc)\n",
    "    break"
   ]
  },
  {
   "cell_type": "code",
   "execution_count": 93,
   "id": "impressive-struggle",
   "metadata": {},
   "outputs": [
    {
     "data": {
      "text/plain": [
       "-1.1751298725710975"
      ]
     },
     "execution_count": 93,
     "metadata": {},
     "output_type": "execute_result"
    }
   ],
   "source": [
    "-np.log(Zc)"
   ]
  },
  {
   "cell_type": "code",
   "execution_count": 85,
   "id": "direct-cassette",
   "metadata": {},
   "outputs": [
    {
     "data": {
      "text/plain": [
       "-0.6931471805599453"
      ]
     },
     "execution_count": 85,
     "metadata": {},
     "output_type": "execute_result"
    }
   ],
   "source": [
    "np.log(0.5)"
   ]
  },
  {
   "cell_type": "code",
   "execution_count": 80,
   "id": "graphic-arcade",
   "metadata": {
    "scrolled": true
   },
   "outputs": [
    {
     "data": {
      "text/plain": [
       "muscle_16mo_rep1   -1.025764\n",
       "muscle_16mo_rep2   -1.025764\n",
       "muscle_16mo_rep3   -1.025764\n",
       "muscle_16mo_rep4   -1.025764\n",
       "muscle_16mo_rep5   -1.025764\n",
       "muscle_2mo_rep1    -1.025764\n",
       "muscle_2mo_rep2    -1.004575\n",
       "muscle_2mo_rep3    -1.025764\n",
       "muscle_2mo_rep4    -1.025764\n",
       "muscle_2mo_rep5    -1.025764\n",
       "muscle_39mo_rep1   -1.025764\n",
       "muscle_39mo_rep2   -1.025764\n",
       "muscle_39mo_rep3   -1.025764\n",
       "muscle_39mo_rep4   -1.025764\n",
       "muscle_39mo_rep5   -1.025764\n",
       "muscle_7mo_rep1    -1.025764\n",
       "muscle_7mo_rep2    -1.025764\n",
       "muscle_7mo_rep3    -1.025764\n",
       "muscle_7mo_rep4    -1.025764\n",
       "muscle_7mo_rep5    -1.025764\n",
       "Name: taar19t, dtype: float64"
      ]
     },
     "execution_count": 80,
     "metadata": {},
     "output_type": "execute_result"
    }
   ],
   "source": [
    "df.loc[gene][groups[1]]"
   ]
  },
  {
   "cell_type": "code",
   "execution_count": 77,
   "id": "republican-evidence",
   "metadata": {
    "scrolled": true
   },
   "outputs": [
    {
     "data": {
      "image/png": "[encoded data removed]",
      "text/plain": [
       "<Figure size 144x144 with 1 Axes>"
      ]
     },
     "metadata": {
      "needs_background": "light"
     },
     "output_type": "display_data"
    },
    {
     "data": {
      "image/png": "[encoded data removed]",
      "text/plain": [
       "<Figure size 144x144 with 1 Axes>"
      ]
     },
     "metadata": {
      "needs_background": "light"
     },
     "output_type": "display_data"
    },
    {
     "data": {
      "image/png": "[encoded data removed]",
      "text/plain": [
       "<Figure size 144x144 with 1 Axes>"
      ]
     },
     "metadata": {
      "needs_background": "light"
     },
     "output_type": "display_data"
    },
    {
     "data": {
      "image/png": "[encoded data removed]",
      "text/plain": [
       "<Figure size 144x144 with 1 Axes>"
      ]
     },
     "metadata": {
      "needs_background": "light"
     },
     "output_type": "display_data"
    },
    {
     "data": {
      "image/png": "[encoded data removed]",
      "text/plain": [
       "<Figure size 144x144 with 1 Axes>"
      ]
     },
     "metadata": {
      "needs_background": "light"
     },
     "output_type": "display_data"
    },
    {
     "data": {
      "image/png": "[encoded data removed]",
      "text/plain": [
       "<Figure size 144x144 with 1 Axes>"
      ]
     },
     "metadata": {
      "needs_background": "light"
     },
     "output_type": "display_data"
    },
    {
     "data": {
      "image/png": "[encoded data removed]",
      "text/plain": [
       "<Figure size 144x144 with 1 Axes>"
      ]
     },
     "metadata": {
      "needs_background": "light"
     },
     "output_type": "display_data"
    },
    {
     "data": {
      "image/png": "[encoded data removed]",
      "text/plain": [
       "<Figure size 144x144 with 1 Axes>"
      ]
     },
     "metadata": {
      "needs_background": "light"
     },
     "output_type": "display_data"
    },
    {
     "data": {
      "image/png": "[encoded data removed]",
      "text/plain": [
       "<Figure size 144x144 with 1 Axes>"
      ]
     },
     "metadata": {
      "needs_background": "light"
     },
     "output_type": "display_data"
    },
    {
     "data": {
      "image/png": "[encoded data removed]",
      "text/plain": [
       "<Figure size 144x144 with 1 Axes>"
      ]
     },
     "metadata": {
      "needs_background": "light"
     },
     "output_type": "display_data"
    }
   ],
   "source": [
    "for gene in df_result.index[:10]:\n",
    "    plot_data = tuple(df.loc[gene][group].values for group in groups)\n",
    "    plt.figure(figsize=(2,2))\n",
    "    plt.boxplot(plot_data, labels=['heart', 'muscle'])\n",
    "    plt.suptitle(gene)\n",
    "    plt.ylabel('log2(TPM)')\n",
    "    "
   ]
  },
  {
   "cell_type": "code",
   "execution_count": 30,
   "id": "wanted-branch",
   "metadata": {},
   "outputs": [],
   "source": [
    "import matplotlib.pyplot as plt"
   ]
  },
  {
   "cell_type": "code",
   "execution_count": 31,
   "id": "desirable-southeast",
   "metadata": {
    "scrolled": false
   },
   "outputs": [
    {
     "data": {
      "text/plain": [
       "(array([1589.,  277.,  350.,  577.,  820., 1264., 2071., 3177., 4903.,\n",
       "        9301.]),\n",
       " array([-3.11561445e-06,  6.92994168e-02,  1.38601949e-01,  2.07904482e-01,\n",
       "         2.77207014e-01,  3.46509547e-01,  4.15812079e-01,  4.85114611e-01,\n",
       "         5.54417144e-01,  6.23719676e-01,  6.93022209e-01]),\n",
       " <BarContainer object of 10 artists>)"
      ]
     },
     "execution_count": 31,
     "metadata": {},
     "output_type": "execute_result"
    },
    {
     "data": {
      "image/png": "[encoded data removed]",
      "text/plain": [
       "<Figure size 432x288 with 1 Axes>"
      ]
     },
     "metadata": {
      "needs_background": "light"
     },
     "output_type": "display_data"
    }
   ],
   "source": [
    "plt.hist(H_result)"
   ]
  },
  {
   "cell_type": "markdown",
   "id": "failing-riverside",
   "metadata": {},
   "source": [
    "```python\n",
    "# %load example_run.py\n",
    "import numpy as np\n",
    "import pandas as pd\n",
    "from magicce import entropy, find_error_probability\n",
    "\n",
    "def test():\n",
    "    # define inverse function of entropy function H = p*log(p)\n",
    "    # find_error_probability is an approximation for small p\n",
    "    # alternatively, calculate inverse numerically\n",
    "    inventropyfunc = find_error_probability\n",
    "\n",
    "    # import data as a numpy array\n",
    "    data_file = './data/gene_expression.tab'\n",
    "    data_df = pd.read_csv(data_file, sep='\\t', index_col=0)\n",
    "    all_data = data_df.values\n",
    "\n",
    "    # define groups that are compared with each other\n",
    "    # the chosen indices correspond to 2mo and 16mo brain samples\n",
    "    groups = [[0,1,2,3,4],[5,6,7,8,9]]\n",
    "\n",
    "    # find number of different conditions (same cell type/day in groups)\n",
    "    # prior probabilities that a sample belongs to each group\n",
    "    # Here, we are comparing one time point against another, so we take [1,1]\n",
    "    # If we were comparing one time point against 3 others, we would use [1,3]\n",
    "    nc = [1,1]\n",
    "\n",
    "    H_result = entropy(all_data, groups, ncond=nc, k=10, N=1E3)\n",
    "    p_result = inventropyfunc(H_result)\n",
    "\n",
    "    df = pd.DataFrame({'H(c|x)':H_result, 'p_e':p_result}, index=data_df.index)\n",
    "    df = df.sort_values(by='p_e')\n",
    "\n",
    "    # save sorted list of promoter clusters most predictive for different groups\n",
    "    writefile = './results/testresults.txt'\n",
    "    df.to_csv(writefile, sep='\\t', float_format='%.4e')\n",
    "\n",
    "\n",
    "if __name__ == \"__main__\":\n",
    "    test()\n",
    "```"
   ]
  },
  {
   "cell_type": "code",
   "execution_count": 258,
   "id": "romantic-resource",
   "metadata": {},
   "outputs": [],
   "source": [
    "# %load magicce/class_entropies.py\n",
    "\"\"\"\n",
    "For two or more given groups of gene expression samples this script gives an\n",
    "ordered list of the most promising marker genes that would differentiate between the two\n",
    "groups.\n",
    "\n",
    "The scoring is based on the conditional entropy of the classes given the data.\n",
    "\"\"\"\n",
    "# import relevant python libraries\n",
    "import numpy as np\n",
    "from scipy.special import gamma\n",
    "from scipy.special import digamma\n",
    "from scipy.special import lambertw\n",
    "import scipy.integrate as integrate\n",
    "from magicce import prior_params\n",
    "\n",
    "\n",
    "def create_ranges(start, stop, N):\n",
    "    steps = (1.0/(N-1)) * (stop - start)\n",
    "    return steps[:, None]*np.arange(N) + start[:, None]\n",
    "\n",
    "\n",
    "def entropy(data, all_c, ncond=None, k=6, N=1E4):\n",
    "    \"\"\" calculates the conditional entropy H(c|x) of multiple genes\n",
    "    data:   NxM array of N genes across M conditions\n",
    "    all_c:  list of list of indices indicating which classes the samples are\n",
    "            split into\n",
    "    ncond:  number of conditions in each group; gives prior probability\n",
    "            that a sample is in a group. [default = None, uniform prior]\n",
    "    k:      parameter setting size of integration domain for H(x)\n",
    "            [default = 6]\n",
    "    N:      parameter setting number of bins in integration for H(x)\n",
    "            [default = 1E4]\n",
    "    \"\"\"\n",
    "    # make sure data are in form of 2D array\n",
    "    data = np.asarray(data)\n",
    "    dim = data.ndim\n",
    "    if dim == 1:\n",
    "        data = data.reshape(1, -1)\n",
    "    elif dim == 2:\n",
    "        pass\n",
    "    else:\n",
    "        message = 'dimension of data is {}, but should be 1 or 2'.format(dim)\n",
    "        raise Exception(message)\n",
    "\n",
    "    N_g = data.shape[0]  # number of genes\n",
    "\n",
    "    N_c = len(all_c)  # number of classes\n",
    "\n",
    "    if ncond is None:\n",
    "        ncond = np.ones(N_c)\n",
    "    else:\n",
    "        ncond = np.asarray(ncond)\n",
    "    prior_c = ncond/np.sum(ncond)\n",
    "\n",
    "    # find alpha and beta values\n",
    "    abparams = [prior_params(data[:, c]) for c in all_c]\n",
    "    all_alpha = np.array([a[0] for a in abparams])\n",
    "    all_beta = np.array([a[1] for a in abparams])\n",
    "    \n",
    "    # generate summary parameters for P(x|c)\n",
    "    all_params = []\n",
    "    for i in range(N_c):\n",
    "        c = all_c[i]\n",
    "        alphac = all_alpha[i]\n",
    "        betac = all_beta[i]\n",
    "        \n",
    "        datac = data[:, c]\n",
    "        varc = datac.var(axis=-1)\n",
    "        xc = datac.mean(axis=-1)\n",
    "        nc = len(c)  # size of class c\n",
    "        Vc = (nc + 1)*(varc + 2*betac/nc)\n",
    "        gc = alphac + (nc - 1)/2\n",
    "        Zc = gamma(gc) / (np.sqrt(Vc*np.pi) * gamma(gc-0.5))  \n",
    "        all_params.append((Zc, xc, Vc, gc))\n",
    "    \n",
    "    H_xc = np.zeros(N_g)  # initialize entropy array H(x,c) = H(c) + <H(x|c)>\n",
    "    for i in range(N_c):      \n",
    "        Zc, xc, Vc, gc = all_params[i]\n",
    "        pc = prior_c[i]\n",
    "        \n",
    "        # calculate H(x,c)\n",
    "        H_xc += pc *( -np.log(pc) -np.log(Zc) + gc*(digamma(gc) - digamma(gc - 0.5)) )    \n",
    "    \n",
    "    \n",
    "        \n",
    "    def P_x(xx):\n",
    "        \"\"\"(P(x))\"\"\"\n",
    "        Psum = np.zeros_like(xx)\n",
    "        for ii in range(N_c):\n",
    "            Psum += prior_c[ii]*P_xgc(xx, ii)\n",
    "        return (Psum)\n",
    "    \n",
    "    def P_xgc(xx, ii):\n",
    "        \"\"\"P(x|c=ii)\"\"\"\n",
    "        Zcc, xcc, Vcc, gcc = all_params[ii]\n",
    "        res = Zcc[:, None] * \\\n",
    "                np.power((1 + (xx - xcc[:, None])**2 / Vcc[:, None]), -gcc)\n",
    "        return res\n",
    "    \n",
    "    x_low = np.inf*np.ones(N_g)\n",
    "    x_high = -np.inf*np.ones(N_g)\n",
    "    for i in range(N_c):\n",
    "        Zc, xc, Vc, gc = all_params[i]\n",
    "        xd = np.sqrt(Vc * (-1 + 10**(k/gc)))\n",
    "        x_low = np.minimum(x_low, xc - xd)\n",
    "        x_high = np.maximum(x_high, xc + xd)\n",
    "    \n",
    "    x = create_ranges(x_low, x_high, N)\n",
    "    P_vals = P_x(x)\n",
    "    H_x = -integrate.trapz(P_vals*np.log(P_vals), x, axis=1)\n",
    "    \n",
    "    return H_xc, H_x  # /N_c\n"
   ]
  },
  {
   "cell_type": "code",
   "execution_count": 259,
   "id": "exterior-syndication",
   "metadata": {},
   "outputs": [
    {
     "data": {
      "text/plain": [
       "array([-14.62404019, -14.62404019, -14.62404019, ...,   0.69270967,\n",
       "         0.69271784,   2.38930563])"
      ]
     },
     "execution_count": 259,
     "metadata": {},
     "output_type": "execute_result"
    }
   ],
   "source": [
    "H_joint, H_marg = entropy(data, groups, ncond=nc, k=6, N=1e3)\n",
    "np.sort(H_joint-H_marg)"
   ]
  },
  {
   "cell_type": "code",
   "execution_count": 266,
   "id": "frozen-memphis",
   "metadata": {},
   "outputs": [
    {
     "data": {
      "text/plain": [
       "array([ 8265,  5619, 13327,  3251,  3254, 15632, 17970, 17958, 17957,\n",
       "       21647])"
      ]
     },
     "execution_count": 266,
     "metadata": {},
     "output_type": "execute_result"
    }
   ],
   "source": [
    "np.argsort(H_joint-H_marg)[:10]"
   ]
  },
  {
   "cell_type": "code",
   "execution_count": 267,
   "id": "integral-commander",
   "metadata": {},
   "outputs": [
    {
     "data": {
      "text/plain": [
       "array([-13.99843596, -13.99843596, -13.99843596, -13.99843596,\n",
       "       -13.99843596, -13.99843596, -13.99843596, -13.99843596,\n",
       "       -13.99843596, -13.99843596])"
      ]
     },
     "execution_count": 267,
     "metadata": {},
     "output_type": "execute_result"
    }
   ],
   "source": [
    "H_joint[[ 8265,  5619, 13327,  3251,  3254, 15632, 17970, 17958, 17957,\n",
    "       21647]]"
   ]
  },
  {
   "cell_type": "code",
   "execution_count": 268,
   "id": "shared-pension",
   "metadata": {},
   "outputs": [
    {
     "data": {
      "text/plain": [
       "array([0.62560423, 0.62560423, 0.62560423, 0.62560423, 0.62560423,\n",
       "       0.62560423, 0.62560423, 0.62560423, 0.62560423, 0.62560423])"
      ]
     },
     "execution_count": 268,
     "metadata": {},
     "output_type": "execute_result"
    }
   ],
   "source": [
    "H_marg[[ 8265,  5619, 13327,  3251,  3254, 15632, 17970, 17958, 17957,\n",
    "       21647]]"
   ]
  },
  {
   "cell_type": "code",
   "execution_count": 271,
   "id": "permanent-clarity",
   "metadata": {},
   "outputs": [
    {
     "data": {
      "text/plain": [
       "array([[-1.02576449, -1.02576449, -1.02576449, -1.02576449, -1.02576449],\n",
       "       [-1.02576449, -1.02576449, -1.02576449, -1.02576449, -1.02576449],\n",
       "       [-1.02576449, -1.02576449, -1.02576449, -1.02576449, -1.02576449],\n",
       "       [-1.02576449, -1.02576449, -1.02576449, -1.02576449, -1.02576449],\n",
       "       [-1.02576449, -1.02576449, -1.02576449, -1.02576449, -1.02576449],\n",
       "       [-1.02576449, -1.02576449, -1.02576449, -1.02576449, -1.02576449],\n",
       "       [-1.02576449, -1.02576449, -1.02576449, -1.02576449, -1.02576449],\n",
       "       [-1.02576449, -1.02576449, -1.02576449, -1.02576449, -1.02576449],\n",
       "       [-1.02576449, -1.02576449, -1.02576449, -1.02576449, -1.02576449],\n",
       "       [-1.02576449, -1.02576449, -1.02576449, -1.02576449, -1.02576449]])"
      ]
     },
     "execution_count": 271,
     "metadata": {},
     "output_type": "execute_result"
    }
   ],
   "source": [
    "data[[ 8265,  5619, 13327,  3251,  3254, 15632, 17970, 17958, 17957,\n",
    "       21647]][:, groups[0]]"
   ]
  },
  {
   "cell_type": "code",
   "execution_count": 220,
   "id": "relative-seller",
   "metadata": {},
   "outputs": [],
   "source": [
    "import magicce"
   ]
  },
  {
   "cell_type": "code",
   "execution_count": 248,
   "id": "original-likelihood",
   "metadata": {},
   "outputs": [
    {
     "data": {
      "text/plain": [
       "array([-2.20898631e-06, -2.20898631e-06, -2.20898631e-06, ...,\n",
       "        6.92597133e-01,  6.92598508e-01,  6.92598774e-01])"
      ]
     },
     "execution_count": 248,
     "metadata": {},
     "output_type": "execute_result"
    }
   ],
   "source": [
    "H = magicce.entropy(data, groups, ncond=nc, k=8, N=1e4)\n",
    "np.sort(H)"
   ]
  },
  {
   "cell_type": "code",
   "execution_count": null,
   "id": "individual-jewel",
   "metadata": {},
   "outputs": [],
   "source": [
    "np.argsort(H)"
   ]
  }
 ],
 "metadata": {
  "kernelspec": {
   "display_name": "Python 3",
   "language": "python",
   "name": "python3"
  },
  "language_info": {
   "codemirror_mode": {
    "name": "ipython",
    "version": 3
   },
   "file_extension": ".py",
   "mimetype": "text/x-python",
   "name": "python",
   "nbconvert_exporter": "python",
   "pygments_lexer": "ipython3",
   "version": "3.6.10"
  }
 },
 "nbformat": 4,
 "nbformat_minor": 5
}
