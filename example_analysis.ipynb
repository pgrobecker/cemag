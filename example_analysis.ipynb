{
 "cells": [
  {
   "cell_type": "code",
   "execution_count": 1,
   "id": "placed-twist",
   "metadata": {},
   "outputs": [],
   "source": [
    "import numpy as np\n",
    "import pandas as pd\n",
    "import matplotlib.pyplot as plt\n",
    "from magicce import entropy, prior_params, find_error_probability, std_eff"
   ]
  },
  {
   "cell_type": "markdown",
   "id": "53adb947",
   "metadata": {},
   "source": [
    "# Loading expression Data"
   ]
  },
  {
   "cell_type": "markdown",
   "id": "fea743d2",
   "metadata": {},
   "source": [
    "The included dataset contains log2(TPM) normalized RNA-seq data for various tissues taken from adult zebrafish at different ages. For details see [Kijima, Y. et al. Age-associated different transcriptome profiling in zebrafish and rat: insight into diversity of vertebrate aging. bioRxiv 478438 (2018)](https://www.biorxiv.org/content/10.1101/478438v1.abstract)"
   ]
  },
  {
   "cell_type": "code",
   "execution_count": 2,
   "id": "prostate-details",
   "metadata": {},
   "outputs": [
    {
     "data": {
      "text/html": [
       "<div>\n",
       "<style scoped>\n",
       "    .dataframe tbody tr th:only-of-type {\n",
       "        vertical-align: middle;\n",
       "    }\n",
       "\n",
       "    .dataframe tbody tr th {\n",
       "        vertical-align: top;\n",
       "    }\n",
       "\n",
       "    .dataframe thead th {\n",
       "        text-align: right;\n",
       "    }\n",
       "</style>\n",
       "<table border=\"1\" class=\"dataframe\">\n",
       "  <thead>\n",
       "    <tr style=\"text-align: right;\">\n",
       "      <th></th>\n",
       "      <th>brain_16mo_rep1</th>\n",
       "      <th>brain_16mo_rep2</th>\n",
       "      <th>brain_16mo_rep3</th>\n",
       "      <th>brain_16mo_rep4</th>\n",
       "      <th>brain_16mo_rep5</th>\n",
       "      <th>brain_2mo_rep1</th>\n",
       "      <th>brain_2mo_rep2</th>\n",
       "      <th>brain_2mo_rep3</th>\n",
       "      <th>brain_2mo_rep4</th>\n",
       "      <th>brain_2mo_rep5</th>\n",
       "      <th>...</th>\n",
       "      <th>muscle_39mo_rep1</th>\n",
       "      <th>muscle_39mo_rep2</th>\n",
       "      <th>muscle_39mo_rep3</th>\n",
       "      <th>muscle_39mo_rep4</th>\n",
       "      <th>muscle_39mo_rep5</th>\n",
       "      <th>muscle_7mo_rep1</th>\n",
       "      <th>muscle_7mo_rep2</th>\n",
       "      <th>muscle_7mo_rep3</th>\n",
       "      <th>muscle_7mo_rep4</th>\n",
       "      <th>muscle_7mo_rep5</th>\n",
       "    </tr>\n",
       "    <tr>\n",
       "      <th>GeneID</th>\n",
       "      <th></th>\n",
       "      <th></th>\n",
       "      <th></th>\n",
       "      <th></th>\n",
       "      <th></th>\n",
       "      <th></th>\n",
       "      <th></th>\n",
       "      <th></th>\n",
       "      <th></th>\n",
       "      <th></th>\n",
       "      <th></th>\n",
       "      <th></th>\n",
       "      <th></th>\n",
       "      <th></th>\n",
       "      <th></th>\n",
       "      <th></th>\n",
       "      <th></th>\n",
       "      <th></th>\n",
       "      <th></th>\n",
       "      <th></th>\n",
       "      <th></th>\n",
       "    </tr>\n",
       "  </thead>\n",
       "  <tbody>\n",
       "    <tr>\n",
       "      <th>A2ML1 (1 of many)</th>\n",
       "      <td>2.003886</td>\n",
       "      <td>1.699349</td>\n",
       "      <td>1.709527</td>\n",
       "      <td>1.735342</td>\n",
       "      <td>1.719059</td>\n",
       "      <td>1.711328</td>\n",
       "      <td>2.084648</td>\n",
       "      <td>1.953139</td>\n",
       "      <td>2.354774</td>\n",
       "      <td>2.309915</td>\n",
       "      <td>...</td>\n",
       "      <td>1.590810</td>\n",
       "      <td>1.572585</td>\n",
       "      <td>1.677028</td>\n",
       "      <td>2.850064</td>\n",
       "      <td>3.084047</td>\n",
       "      <td>1.930746</td>\n",
       "      <td>8.288445</td>\n",
       "      <td>2.519180</td>\n",
       "      <td>1.637498</td>\n",
       "      <td>1.650748</td>\n",
       "    </tr>\n",
       "    <tr>\n",
       "      <th>ABCF3</th>\n",
       "      <td>3.406648</td>\n",
       "      <td>3.367878</td>\n",
       "      <td>3.121997</td>\n",
       "      <td>3.211761</td>\n",
       "      <td>3.580235</td>\n",
       "      <td>3.681889</td>\n",
       "      <td>4.194213</td>\n",
       "      <td>3.889060</td>\n",
       "      <td>3.032369</td>\n",
       "      <td>3.864999</td>\n",
       "      <td>...</td>\n",
       "      <td>6.817735</td>\n",
       "      <td>2.713141</td>\n",
       "      <td>2.042845</td>\n",
       "      <td>3.143494</td>\n",
       "      <td>2.734619</td>\n",
       "      <td>2.525217</td>\n",
       "      <td>4.043733</td>\n",
       "      <td>2.283221</td>\n",
       "      <td>2.963904</td>\n",
       "      <td>2.199464</td>\n",
       "    </tr>\n",
       "    <tr>\n",
       "      <th>ACOT12</th>\n",
       "      <td>3.486173</td>\n",
       "      <td>2.841191</td>\n",
       "      <td>3.844378</td>\n",
       "      <td>3.367892</td>\n",
       "      <td>3.649668</td>\n",
       "      <td>3.295562</td>\n",
       "      <td>3.557342</td>\n",
       "      <td>3.184319</td>\n",
       "      <td>4.044197</td>\n",
       "      <td>3.149275</td>\n",
       "      <td>...</td>\n",
       "      <td>3.375806</td>\n",
       "      <td>0.831841</td>\n",
       "      <td>0.281550</td>\n",
       "      <td>0.169860</td>\n",
       "      <td>0.101192</td>\n",
       "      <td>-0.539613</td>\n",
       "      <td>0.888150</td>\n",
       "      <td>-0.490532</td>\n",
       "      <td>-0.405902</td>\n",
       "      <td>-0.173364</td>\n",
       "    </tr>\n",
       "    <tr>\n",
       "      <th>ACSF3</th>\n",
       "      <td>0.642943</td>\n",
       "      <td>1.564790</td>\n",
       "      <td>1.291761</td>\n",
       "      <td>1.401428</td>\n",
       "      <td>1.117463</td>\n",
       "      <td>1.140322</td>\n",
       "      <td>1.519899</td>\n",
       "      <td>1.520216</td>\n",
       "      <td>1.514848</td>\n",
       "      <td>-1.025764</td>\n",
       "      <td>...</td>\n",
       "      <td>-0.006755</td>\n",
       "      <td>1.427482</td>\n",
       "      <td>-0.485476</td>\n",
       "      <td>0.733330</td>\n",
       "      <td>-0.325173</td>\n",
       "      <td>0.818976</td>\n",
       "      <td>1.537746</td>\n",
       "      <td>0.385791</td>\n",
       "      <td>-0.031601</td>\n",
       "      <td>-0.706022</td>\n",
       "    </tr>\n",
       "    <tr>\n",
       "      <th>ACTC1</th>\n",
       "      <td>-1.025764</td>\n",
       "      <td>-0.290542</td>\n",
       "      <td>-1.025764</td>\n",
       "      <td>-1.025764</td>\n",
       "      <td>-1.025764</td>\n",
       "      <td>-0.808841</td>\n",
       "      <td>-1.025764</td>\n",
       "      <td>-0.902833</td>\n",
       "      <td>-1.025764</td>\n",
       "      <td>-1.025764</td>\n",
       "      <td>...</td>\n",
       "      <td>7.088967</td>\n",
       "      <td>1.757899</td>\n",
       "      <td>1.439672</td>\n",
       "      <td>3.275330</td>\n",
       "      <td>2.601047</td>\n",
       "      <td>2.733269</td>\n",
       "      <td>2.659035</td>\n",
       "      <td>4.052598</td>\n",
       "      <td>5.246153</td>\n",
       "      <td>7.691827</td>\n",
       "    </tr>\n",
       "  </tbody>\n",
       "</table>\n",
       "<p>5 rows × 94 columns</p>\n",
       "</div>"
      ],
      "text/plain": [
       "                   brain_16mo_rep1  brain_16mo_rep2  brain_16mo_rep3  \\\n",
       "GeneID                                                                 \n",
       "A2ML1 (1 of many)         2.003886         1.699349         1.709527   \n",
       "ABCF3                     3.406648         3.367878         3.121997   \n",
       "ACOT12                    3.486173         2.841191         3.844378   \n",
       "ACSF3                     0.642943         1.564790         1.291761   \n",
       "ACTC1                    -1.025764        -0.290542        -1.025764   \n",
       "\n",
       "                   brain_16mo_rep4  brain_16mo_rep5  brain_2mo_rep1  \\\n",
       "GeneID                                                                \n",
       "A2ML1 (1 of many)         1.735342         1.719059        1.711328   \n",
       "ABCF3                     3.211761         3.580235        3.681889   \n",
       "ACOT12                    3.367892         3.649668        3.295562   \n",
       "ACSF3                     1.401428         1.117463        1.140322   \n",
       "ACTC1                    -1.025764        -1.025764       -0.808841   \n",
       "\n",
       "                   brain_2mo_rep2  brain_2mo_rep3  brain_2mo_rep4  \\\n",
       "GeneID                                                              \n",
       "A2ML1 (1 of many)        2.084648        1.953139        2.354774   \n",
       "ABCF3                    4.194213        3.889060        3.032369   \n",
       "ACOT12                   3.557342        3.184319        4.044197   \n",
       "ACSF3                    1.519899        1.520216        1.514848   \n",
       "ACTC1                   -1.025764       -0.902833       -1.025764   \n",
       "\n",
       "                   brain_2mo_rep5  ...  muscle_39mo_rep1  muscle_39mo_rep2  \\\n",
       "GeneID                             ...                                       \n",
       "A2ML1 (1 of many)        2.309915  ...          1.590810          1.572585   \n",
       "ABCF3                    3.864999  ...          6.817735          2.713141   \n",
       "ACOT12                   3.149275  ...          3.375806          0.831841   \n",
       "ACSF3                   -1.025764  ...         -0.006755          1.427482   \n",
       "ACTC1                   -1.025764  ...          7.088967          1.757899   \n",
       "\n",
       "                   muscle_39mo_rep3  muscle_39mo_rep4  muscle_39mo_rep5  \\\n",
       "GeneID                                                                    \n",
       "A2ML1 (1 of many)          1.677028          2.850064          3.084047   \n",
       "ABCF3                      2.042845          3.143494          2.734619   \n",
       "ACOT12                     0.281550          0.169860          0.101192   \n",
       "ACSF3                     -0.485476          0.733330         -0.325173   \n",
       "ACTC1                      1.439672          3.275330          2.601047   \n",
       "\n",
       "                   muscle_7mo_rep1  muscle_7mo_rep2  muscle_7mo_rep3  \\\n",
       "GeneID                                                                 \n",
       "A2ML1 (1 of many)         1.930746         8.288445         2.519180   \n",
       "ABCF3                     2.525217         4.043733         2.283221   \n",
       "ACOT12                   -0.539613         0.888150        -0.490532   \n",
       "ACSF3                     0.818976         1.537746         0.385791   \n",
       "ACTC1                     2.733269         2.659035         4.052598   \n",
       "\n",
       "                   muscle_7mo_rep4  muscle_7mo_rep5  \n",
       "GeneID                                               \n",
       "A2ML1 (1 of many)         1.637498         1.650748  \n",
       "ABCF3                     2.963904         2.199464  \n",
       "ACOT12                   -0.405902        -0.173364  \n",
       "ACSF3                    -0.031601        -0.706022  \n",
       "ACTC1                     5.246153         7.691827  \n",
       "\n",
       "[5 rows x 94 columns]"
      ]
     },
     "execution_count": 2,
     "metadata": {},
     "output_type": "execute_result"
    }
   ],
   "source": [
    "# load dataset\n",
    "expression_df = pd.read_csv('./data/gene_expression.tab', sep='\\t', index_col=0)\n",
    "data = expression_df.values\n",
    "expression_df.head()"
   ]
  },
  {
   "cell_type": "code",
   "execution_count": 3,
   "id": "elect-inspector",
   "metadata": {},
   "outputs": [
    {
     "data": {
      "text/html": [
       "<div>\n",
       "<style scoped>\n",
       "    .dataframe tbody tr th:only-of-type {\n",
       "        vertical-align: middle;\n",
       "    }\n",
       "\n",
       "    .dataframe tbody tr th {\n",
       "        vertical-align: top;\n",
       "    }\n",
       "\n",
       "    .dataframe thead th {\n",
       "        text-align: right;\n",
       "    }\n",
       "</style>\n",
       "<table border=\"1\" class=\"dataframe\">\n",
       "  <thead>\n",
       "    <tr style=\"text-align: right;\">\n",
       "      <th></th>\n",
       "      <th>tissue</th>\n",
       "      <th>age</th>\n",
       "      <th>replicate</th>\n",
       "    </tr>\n",
       "  </thead>\n",
       "  <tbody>\n",
       "    <tr>\n",
       "      <th>0</th>\n",
       "      <td>brain</td>\n",
       "      <td>16mo</td>\n",
       "      <td>rep1</td>\n",
       "    </tr>\n",
       "    <tr>\n",
       "      <th>1</th>\n",
       "      <td>brain</td>\n",
       "      <td>16mo</td>\n",
       "      <td>rep2</td>\n",
       "    </tr>\n",
       "    <tr>\n",
       "      <th>2</th>\n",
       "      <td>brain</td>\n",
       "      <td>16mo</td>\n",
       "      <td>rep3</td>\n",
       "    </tr>\n",
       "    <tr>\n",
       "      <th>3</th>\n",
       "      <td>brain</td>\n",
       "      <td>16mo</td>\n",
       "      <td>rep4</td>\n",
       "    </tr>\n",
       "    <tr>\n",
       "      <th>4</th>\n",
       "      <td>brain</td>\n",
       "      <td>16mo</td>\n",
       "      <td>rep5</td>\n",
       "    </tr>\n",
       "  </tbody>\n",
       "</table>\n",
       "</div>"
      ],
      "text/plain": [
       "  tissue   age replicate\n",
       "0  brain  16mo      rep1\n",
       "1  brain  16mo      rep2\n",
       "2  brain  16mo      rep3\n",
       "3  brain  16mo      rep4\n",
       "4  brain  16mo      rep5"
      ]
     },
     "execution_count": 3,
     "metadata": {},
     "output_type": "execute_result"
    }
   ],
   "source": [
    "# make DataFrame for column attributes\n",
    "ca = pd.DataFrame([c.split('_') for c in expression_df.columns], \n",
    "                  columns=['tissue', 'age', 'replicate'])\n",
    "ca.head()"
   ]
  },
  {
   "cell_type": "code",
   "execution_count": 4,
   "id": "infinite-clinton",
   "metadata": {
    "scrolled": true
   },
   "outputs": [
    {
     "data": {
      "text/html": [
       "<div>\n",
       "<style scoped>\n",
       "    .dataframe tbody tr th:only-of-type {\n",
       "        vertical-align: middle;\n",
       "    }\n",
       "\n",
       "    .dataframe tbody tr th {\n",
       "        vertical-align: top;\n",
       "    }\n",
       "\n",
       "    .dataframe thead th {\n",
       "        text-align: right;\n",
       "    }\n",
       "</style>\n",
       "<table border=\"1\" class=\"dataframe\">\n",
       "  <thead>\n",
       "    <tr style=\"text-align: right;\">\n",
       "      <th></th>\n",
       "      <th></th>\n",
       "      <th>replicate</th>\n",
       "    </tr>\n",
       "    <tr>\n",
       "      <th>tissue</th>\n",
       "      <th>age</th>\n",
       "      <th></th>\n",
       "    </tr>\n",
       "  </thead>\n",
       "  <tbody>\n",
       "    <tr>\n",
       "      <th rowspan=\"4\" valign=\"top\">brain</th>\n",
       "      <th>16mo</th>\n",
       "      <td>5</td>\n",
       "    </tr>\n",
       "    <tr>\n",
       "      <th>2mo</th>\n",
       "      <td>5</td>\n",
       "    </tr>\n",
       "    <tr>\n",
       "      <th>39mo</th>\n",
       "      <td>5</td>\n",
       "    </tr>\n",
       "    <tr>\n",
       "      <th>7mo</th>\n",
       "      <td>5</td>\n",
       "    </tr>\n",
       "    <tr>\n",
       "      <th rowspan=\"4\" valign=\"top\">gill</th>\n",
       "      <th>16mo</th>\n",
       "      <td>5</td>\n",
       "    </tr>\n",
       "    <tr>\n",
       "      <th>2mo</th>\n",
       "      <td>5</td>\n",
       "    </tr>\n",
       "    <tr>\n",
       "      <th>39mo</th>\n",
       "      <td>5</td>\n",
       "    </tr>\n",
       "    <tr>\n",
       "      <th>7mo</th>\n",
       "      <td>5</td>\n",
       "    </tr>\n",
       "    <tr>\n",
       "      <th rowspan=\"3\" valign=\"top\">heart</th>\n",
       "      <th>16mo</th>\n",
       "      <td>5</td>\n",
       "    </tr>\n",
       "    <tr>\n",
       "      <th>39mo</th>\n",
       "      <td>4</td>\n",
       "    </tr>\n",
       "    <tr>\n",
       "      <th>7mo</th>\n",
       "      <td>5</td>\n",
       "    </tr>\n",
       "    <tr>\n",
       "      <th rowspan=\"4\" valign=\"top\">liver</th>\n",
       "      <th>16mo</th>\n",
       "      <td>5</td>\n",
       "    </tr>\n",
       "    <tr>\n",
       "      <th>2mo</th>\n",
       "      <td>5</td>\n",
       "    </tr>\n",
       "    <tr>\n",
       "      <th>39mo</th>\n",
       "      <td>5</td>\n",
       "    </tr>\n",
       "    <tr>\n",
       "      <th>7mo</th>\n",
       "      <td>5</td>\n",
       "    </tr>\n",
       "    <tr>\n",
       "      <th rowspan=\"4\" valign=\"top\">muscle</th>\n",
       "      <th>16mo</th>\n",
       "      <td>5</td>\n",
       "    </tr>\n",
       "    <tr>\n",
       "      <th>2mo</th>\n",
       "      <td>5</td>\n",
       "    </tr>\n",
       "    <tr>\n",
       "      <th>39mo</th>\n",
       "      <td>5</td>\n",
       "    </tr>\n",
       "    <tr>\n",
       "      <th>7mo</th>\n",
       "      <td>5</td>\n",
       "    </tr>\n",
       "  </tbody>\n",
       "</table>\n",
       "</div>"
      ],
      "text/plain": [
       "             replicate\n",
       "tissue age            \n",
       "brain  16mo          5\n",
       "       2mo           5\n",
       "       39mo          5\n",
       "       7mo           5\n",
       "gill   16mo          5\n",
       "       2mo           5\n",
       "       39mo          5\n",
       "       7mo           5\n",
       "heart  16mo          5\n",
       "       39mo          4\n",
       "       7mo           5\n",
       "liver  16mo          5\n",
       "       2mo           5\n",
       "       39mo          5\n",
       "       7mo           5\n",
       "muscle 16mo          5\n",
       "       2mo           5\n",
       "       39mo          5\n",
       "       7mo           5"
      ]
     },
     "execution_count": 4,
     "metadata": {},
     "output_type": "execute_result"
    }
   ],
   "source": [
    "ca.groupby(['tissue', 'age']).count()"
   ]
  },
  {
   "cell_type": "markdown",
   "id": "sensitive-transsexual",
   "metadata": {},
   "source": [
    "# Inferring marker genes"
   ]
  },
  {
   "cell_type": "markdown",
   "id": "e3495720",
   "metadata": {},
   "source": [
    "## Marker genes between two groups of samples\n",
    "\n",
    "Here, we simply want to find marker genes that can differentiate between samples taken from the brain at ages 2 months and 39 months. "
   ]
  },
  {
   "cell_type": "code",
   "execution_count": 5,
   "id": "884872fe",
   "metadata": {},
   "outputs": [
    {
     "data": {
      "text/plain": [
       "[array([5, 6, 7, 8, 9]), array([10, 11, 12, 13, 14])]"
      ]
     },
     "execution_count": 5,
     "metadata": {},
     "output_type": "execute_result"
    }
   ],
   "source": [
    "# define groups that are compared against each other\n",
    "groups = [['brain', '2mo'], ['brain', '39mo']]\n",
    "groups_idx = [np.flatnonzero((ca.tissue == t)&(ca.age == a)) for t, a in groups]\n",
    "groups_idx"
   ]
  },
  {
   "cell_type": "code",
   "execution_count": 6,
   "id": "magnetic-immune",
   "metadata": {},
   "outputs": [],
   "source": [
    "# relative a priori size of different groups,\n",
    "# discounting potential differences in no. of replicates\n",
    "nc = [1,1]"
   ]
  },
  {
   "cell_type": "code",
   "execution_count": 7,
   "id": "substantial-respect",
   "metadata": {},
   "outputs": [],
   "source": [
    "# calculate conditional class entropy\n",
    "# the parameters k, N determine how accurately the integrals are calculated\n",
    "# one can start with smaller values and see how much of a difference it makes\n",
    "H_result = entropy(data, groups_idx, ncond=nc, k=6, N=1e2)"
   ]
  },
  {
   "cell_type": "code",
   "execution_count": 8,
   "id": "exclusive-paintball",
   "metadata": {},
   "outputs": [],
   "source": [
    "# when there are only two classes, we can invert the entropy function\n",
    "# H=p*log(p) and infer the probability p of misclassification given gene expression a measurement\n",
    "# The function find_error_probability is an analytical solution valid only for small p \n",
    "p_result = find_error_probability(H_result)"
   ]
  },
  {
   "cell_type": "code",
   "execution_count": 9,
   "id": "global-portuguese",
   "metadata": {
    "scrolled": true
   },
   "outputs": [
    {
     "data": {
      "text/html": [
       "<div>\n",
       "<style scoped>\n",
       "    .dataframe tbody tr th:only-of-type {\n",
       "        vertical-align: middle;\n",
       "    }\n",
       "\n",
       "    .dataframe tbody tr th {\n",
       "        vertical-align: top;\n",
       "    }\n",
       "\n",
       "    .dataframe thead th {\n",
       "        text-align: right;\n",
       "    }\n",
       "</style>\n",
       "<table border=\"1\" class=\"dataframe\">\n",
       "  <thead>\n",
       "    <tr style=\"text-align: right;\">\n",
       "      <th></th>\n",
       "      <th>H(c|x)</th>\n",
       "      <th>p_e</th>\n",
       "    </tr>\n",
       "    <tr>\n",
       "      <th>GeneID</th>\n",
       "      <th></th>\n",
       "      <th></th>\n",
       "    </tr>\n",
       "  </thead>\n",
       "  <tbody>\n",
       "    <tr>\n",
       "      <th>si:ch211-1f22.16</th>\n",
       "      <td>0.005939</td>\n",
       "      <td>0.000721</td>\n",
       "    </tr>\n",
       "    <tr>\n",
       "      <th>tmsb</th>\n",
       "      <td>0.016608</td>\n",
       "      <td>0.002355</td>\n",
       "    </tr>\n",
       "    <tr>\n",
       "      <th>insm1a</th>\n",
       "      <td>0.018361</td>\n",
       "      <td>0.002648</td>\n",
       "    </tr>\n",
       "    <tr>\n",
       "      <th>rrm2</th>\n",
       "      <td>0.020145</td>\n",
       "      <td>0.002951</td>\n",
       "    </tr>\n",
       "    <tr>\n",
       "      <th>hmgn2</th>\n",
       "      <td>0.021680</td>\n",
       "      <td>0.003217</td>\n",
       "    </tr>\n",
       "    <tr>\n",
       "      <th>BX248395.1</th>\n",
       "      <td>0.023618</td>\n",
       "      <td>0.003558</td>\n",
       "    </tr>\n",
       "    <tr>\n",
       "      <th>rs1a</th>\n",
       "      <td>0.027783</td>\n",
       "      <td>0.004310</td>\n",
       "    </tr>\n",
       "    <tr>\n",
       "      <th>fxyd6l</th>\n",
       "      <td>0.030164</td>\n",
       "      <td>0.004751</td>\n",
       "    </tr>\n",
       "    <tr>\n",
       "      <th>nusap1</th>\n",
       "      <td>0.039408</td>\n",
       "      <td>0.006535</td>\n",
       "    </tr>\n",
       "    <tr>\n",
       "      <th>cyp2y3</th>\n",
       "      <td>0.039434</td>\n",
       "      <td>0.006540</td>\n",
       "    </tr>\n",
       "    <tr>\n",
       "      <th>cdc20</th>\n",
       "      <td>0.041715</td>\n",
       "      <td>0.006996</td>\n",
       "    </tr>\n",
       "    <tr>\n",
       "      <th>ncaph</th>\n",
       "      <td>0.042992</td>\n",
       "      <td>0.007255</td>\n",
       "    </tr>\n",
       "    <tr>\n",
       "      <th>kif11</th>\n",
       "      <td>0.047742</td>\n",
       "      <td>0.008232</td>\n",
       "    </tr>\n",
       "    <tr>\n",
       "      <th>si:dkey-4p15.3</th>\n",
       "      <td>0.047867</td>\n",
       "      <td>0.008258</td>\n",
       "    </tr>\n",
       "    <tr>\n",
       "      <th>oprd1b</th>\n",
       "      <td>0.051373</td>\n",
       "      <td>0.008995</td>\n",
       "    </tr>\n",
       "    <tr>\n",
       "      <th>DNAJA4</th>\n",
       "      <td>0.051390</td>\n",
       "      <td>0.008999</td>\n",
       "    </tr>\n",
       "    <tr>\n",
       "      <th>top2a</th>\n",
       "      <td>0.052740</td>\n",
       "      <td>0.009286</td>\n",
       "    </tr>\n",
       "    <tr>\n",
       "      <th>marcksa</th>\n",
       "      <td>0.054526</td>\n",
       "      <td>0.009670</td>\n",
       "    </tr>\n",
       "    <tr>\n",
       "      <th>CYP2C9</th>\n",
       "      <td>0.055827</td>\n",
       "      <td>0.009951</td>\n",
       "    </tr>\n",
       "    <tr>\n",
       "      <th>birc5a</th>\n",
       "      <td>0.055997</td>\n",
       "      <td>0.009988</td>\n",
       "    </tr>\n",
       "  </tbody>\n",
       "</table>\n",
       "</div>"
      ],
      "text/plain": [
       "                    H(c|x)       p_e\n",
       "GeneID                              \n",
       "si:ch211-1f22.16  0.005939  0.000721\n",
       "tmsb              0.016608  0.002355\n",
       "insm1a            0.018361  0.002648\n",
       "rrm2              0.020145  0.002951\n",
       "hmgn2             0.021680  0.003217\n",
       "BX248395.1        0.023618  0.003558\n",
       "rs1a              0.027783  0.004310\n",
       "fxyd6l            0.030164  0.004751\n",
       "nusap1            0.039408  0.006535\n",
       "cyp2y3            0.039434  0.006540\n",
       "cdc20             0.041715  0.006996\n",
       "ncaph             0.042992  0.007255\n",
       "kif11             0.047742  0.008232\n",
       "si:dkey-4p15.3    0.047867  0.008258\n",
       "oprd1b            0.051373  0.008995\n",
       "DNAJA4            0.051390  0.008999\n",
       "top2a             0.052740  0.009286\n",
       "marcksa           0.054526  0.009670\n",
       "CYP2C9            0.055827  0.009951\n",
       "birc5a            0.055997  0.009988"
      ]
     },
     "execution_count": 9,
     "metadata": {},
     "output_type": "execute_result"
    }
   ],
   "source": [
    "# create sorted list of top marker genes\n",
    "df_result = pd.DataFrame({'H(c|x)':H_result, 'p_e':p_result}, index=expression_df.index)\n",
    "df_result = df_result.sort_values(by='p_e')\n",
    "df_result.head(20)"
   ]
  },
  {
   "cell_type": "code",
   "execution_count": 10,
   "id": "republican-evidence",
   "metadata": {
    "scrolled": true
   },
   "outputs": [
    {
     "data": {
      "image/png": "[encoded data removed]",
      "text/plain": [
       "<Figure size 144x144 with 1 Axes>"
      ]
     },
     "metadata": {
      "needs_background": "light"
     },
     "output_type": "display_data"
    },
    {
     "data": {
      "image/png": "[encoded data removed]",
      "text/plain": [
       "<Figure size 144x144 with 1 Axes>"
      ]
     },
     "metadata": {
      "needs_background": "light"
     },
     "output_type": "display_data"
    },
    {
     "data": {
      "image/png": "[encoded data removed]",
      "text/plain": [
       "<Figure size 144x144 with 1 Axes>"
      ]
     },
     "metadata": {
      "needs_background": "light"
     },
     "output_type": "display_data"
    },
    {
     "data": {
      "image/png": "[encoded data removed]",
      "text/plain": [
       "<Figure size 144x144 with 1 Axes>"
      ]
     },
     "metadata": {
      "needs_background": "light"
     },
     "output_type": "display_data"
    },
    {
     "data": {
      "image/png": "[encoded data removed]",
      "text/plain": [
       "<Figure size 144x144 with 1 Axes>"
      ]
     },
     "metadata": {
      "needs_background": "light"
     },
     "output_type": "display_data"
    },
    {
     "data": {
      "image/png": "[encoded data removed]",
      "text/plain": [
       "<Figure size 144x144 with 1 Axes>"
      ]
     },
     "metadata": {
      "needs_background": "light"
     },
     "output_type": "display_data"
    },
    {
     "data": {
      "image/png": "[encoded data removed]",
      "text/plain": [
       "<Figure size 144x144 with 1 Axes>"
      ]
     },
     "metadata": {
      "needs_background": "light"
     },
     "output_type": "display_data"
    },
    {
     "data": {
      "image/png": "[encoded data removed]",
      "text/plain": [
       "<Figure size 144x144 with 1 Axes>"
      ]
     },
     "metadata": {
      "needs_background": "light"
     },
     "output_type": "display_data"
    },
    {
     "data": {
      "image/png": "[encoded data removed]",
      "text/plain": [
       "<Figure size 144x144 with 1 Axes>"
      ]
     },
     "metadata": {
      "needs_background": "light"
     },
     "output_type": "display_data"
    },
    {
     "data": {
      "image/png": "[encoded data removed]",
      "text/plain": [
       "<Figure size 144x144 with 1 Axes>"
      ]
     },
     "metadata": {
      "needs_background": "light"
     },
     "output_type": "display_data"
    }
   ],
   "source": [
    "# check expression of top marker genes in both groups\n",
    "for gene in df_result.index[:10]:\n",
    "    plot_data = tuple(expression_df.loc[gene][group].values for group in groups_idx)\n",
    "    plt.figure(figsize=(2,2))\n",
    "    plt.boxplot(plot_data, labels=['{}_{}'.format(tissue, age) for tissue, age in groups])\n",
    "    plt.suptitle(gene)\n",
    "    plt.ylabel('log2(TPM)')\n",
    "    "
   ]
  },
  {
   "cell_type": "markdown",
   "id": "725e25bf",
   "metadata": {},
   "source": [
    "## Marker genes between more than two groups of samples\n",
    "\n",
    "Here, we simply want to find marker genes that can differentiate between samples taken from the brain at all ages (2 months, 7 months, 16 months, and 39 months). "
   ]
  },
  {
   "cell_type": "code",
   "execution_count": 11,
   "id": "0351cc72",
   "metadata": {},
   "outputs": [
    {
     "data": {
      "text/plain": [
       "[array([5, 6, 7, 8, 9]),\n",
       " array([15, 16, 17, 18, 19]),\n",
       " array([0, 1, 2, 3, 4]),\n",
       " array([10, 11, 12, 13, 14])]"
      ]
     },
     "execution_count": 11,
     "metadata": {},
     "output_type": "execute_result"
    }
   ],
   "source": [
    "# define groups that are compared against each other\n",
    "groups = [['brain', '2mo'], ['brain', '7mo'], ['brain', '16mo'], ['brain', '39mo']]\n",
    "groups_idx = [np.flatnonzero((ca.tissue == t)&(ca.age == a)) for t, a in groups]\n",
    "groups_idx\n"
   ]
  },
  {
   "cell_type": "code",
   "execution_count": 12,
   "id": "10e3be47",
   "metadata": {},
   "outputs": [],
   "source": [
    "# relative a priori size of different groups,\n",
    "# discounting potential differences in no. of replicates\n",
    "nc = [1,1,1,1]"
   ]
  },
  {
   "cell_type": "code",
   "execution_count": 13,
   "id": "bce98ec3",
   "metadata": {},
   "outputs": [],
   "source": [
    "# calculate conditional class entropy\n",
    "# the parameters k, N determine how accurately the integrals are calculated\n",
    "# one can start with smaller values and see how much of a difference it makes\n",
    "H_result = entropy(data, groups_idx, ncond=nc, k=6, N=1e2)"
   ]
  },
  {
   "cell_type": "code",
   "execution_count": 14,
   "id": "8575af60",
   "metadata": {
    "scrolled": true
   },
   "outputs": [
    {
     "data": {
      "text/html": [
       "<div>\n",
       "<style scoped>\n",
       "    .dataframe tbody tr th:only-of-type {\n",
       "        vertical-align: middle;\n",
       "    }\n",
       "\n",
       "    .dataframe tbody tr th {\n",
       "        vertical-align: top;\n",
       "    }\n",
       "\n",
       "    .dataframe thead th {\n",
       "        text-align: right;\n",
       "    }\n",
       "</style>\n",
       "<table border=\"1\" class=\"dataframe\">\n",
       "  <thead>\n",
       "    <tr style=\"text-align: right;\">\n",
       "      <th></th>\n",
       "      <th>H(c|x)</th>\n",
       "    </tr>\n",
       "    <tr>\n",
       "      <th>GeneID</th>\n",
       "      <th></th>\n",
       "    </tr>\n",
       "  </thead>\n",
       "  <tbody>\n",
       "    <tr>\n",
       "      <th>si:dkey-4p15.3</th>\n",
       "      <td>0.571329</td>\n",
       "    </tr>\n",
       "    <tr>\n",
       "      <th>igf2bp3</th>\n",
       "      <td>0.573582</td>\n",
       "    </tr>\n",
       "    <tr>\n",
       "      <th>hmgn2</th>\n",
       "      <td>0.601044</td>\n",
       "    </tr>\n",
       "    <tr>\n",
       "      <th>tubb5</th>\n",
       "      <td>0.604420</td>\n",
       "    </tr>\n",
       "    <tr>\n",
       "      <th>tmsb</th>\n",
       "      <td>0.609500</td>\n",
       "    </tr>\n",
       "    <tr>\n",
       "      <th>DNAJA4</th>\n",
       "      <td>0.634381</td>\n",
       "    </tr>\n",
       "    <tr>\n",
       "      <th>insm1a</th>\n",
       "      <td>0.639498</td>\n",
       "    </tr>\n",
       "    <tr>\n",
       "      <th>ppp1r14ba</th>\n",
       "      <td>0.667144</td>\n",
       "    </tr>\n",
       "    <tr>\n",
       "      <th>hsp90aa1.2</th>\n",
       "      <td>0.677492</td>\n",
       "    </tr>\n",
       "    <tr>\n",
       "      <th>dbpb</th>\n",
       "      <td>0.695315</td>\n",
       "    </tr>\n",
       "    <tr>\n",
       "      <th>si:dkey-201c13.2</th>\n",
       "      <td>0.708426</td>\n",
       "    </tr>\n",
       "    <tr>\n",
       "      <th>ndc80</th>\n",
       "      <td>0.709025</td>\n",
       "    </tr>\n",
       "    <tr>\n",
       "      <th>fxyd6l</th>\n",
       "      <td>0.709194</td>\n",
       "    </tr>\n",
       "    <tr>\n",
       "      <th>ing4</th>\n",
       "      <td>0.710613</td>\n",
       "    </tr>\n",
       "    <tr>\n",
       "      <th>cyp2y3</th>\n",
       "      <td>0.719048</td>\n",
       "    </tr>\n",
       "    <tr>\n",
       "      <th>si:ch211-1f22.16</th>\n",
       "      <td>0.728413</td>\n",
       "    </tr>\n",
       "    <tr>\n",
       "      <th>hsp90aa1.1</th>\n",
       "      <td>0.751123</td>\n",
       "    </tr>\n",
       "    <tr>\n",
       "      <th>marcksb</th>\n",
       "      <td>0.755665</td>\n",
       "    </tr>\n",
       "    <tr>\n",
       "      <th>oprd1b</th>\n",
       "      <td>0.756711</td>\n",
       "    </tr>\n",
       "    <tr>\n",
       "      <th>cdc20</th>\n",
       "      <td>0.768487</td>\n",
       "    </tr>\n",
       "  </tbody>\n",
       "</table>\n",
       "</div>"
      ],
      "text/plain": [
       "                    H(c|x)\n",
       "GeneID                    \n",
       "si:dkey-4p15.3    0.571329\n",
       "igf2bp3           0.573582\n",
       "hmgn2             0.601044\n",
       "tubb5             0.604420\n",
       "tmsb              0.609500\n",
       "DNAJA4            0.634381\n",
       "insm1a            0.639498\n",
       "ppp1r14ba         0.667144\n",
       "hsp90aa1.2        0.677492\n",
       "dbpb              0.695315\n",
       "si:dkey-201c13.2  0.708426\n",
       "ndc80             0.709025\n",
       "fxyd6l            0.709194\n",
       "ing4              0.710613\n",
       "cyp2y3            0.719048\n",
       "si:ch211-1f22.16  0.728413\n",
       "hsp90aa1.1        0.751123\n",
       "marcksb           0.755665\n",
       "oprd1b            0.756711\n",
       "cdc20             0.768487"
      ]
     },
     "execution_count": 14,
     "metadata": {},
     "output_type": "execute_result"
    }
   ],
   "source": [
    "# create sorted list of top marker genes\n",
    "df_result = pd.DataFrame({'H(c|x)':H_result}, index=expression_df.index)\n",
    "df_result = df_result.sort_values(by='H(c|x)')\n",
    "df_result.head(20)"
   ]
  },
  {
   "cell_type": "code",
   "execution_count": 15,
   "id": "77ba804e",
   "metadata": {},
   "outputs": [
    {
     "data": {
      "text/plain": [
       "[(8.019918847571294, 6.397132380397177),\n",
       " (1.684415762962535, 1.4377116914864094),\n",
       " (0.9892945921489344, 1.4165754407441593),\n",
       " (0.9307141109595726, 0.14162957315915192)]"
      ]
     },
     "execution_count": 15,
     "metadata": {},
     "output_type": "execute_result"
    }
   ],
   "source": [
    "# For each set of replicates, we want to estimate the effective standard deviation of the measurements\n",
    "# For this, we need to estimate the prior distribution of variances first in each set, which have two parameters\n",
    "\n",
    "params = [prior_params(data[group]) for group in groups_idx]\n",
    "params"
   ]
  },
  {
   "cell_type": "code",
   "execution_count": 16,
   "id": "f9e88ea9",
   "metadata": {
    "scrolled": true
   },
   "outputs": [
    {
     "data": {
      "image/png": "[encoded data removed]",
      "text/plain": [
       "<Figure size 144x144 with 1 Axes>"
      ]
     },
     "metadata": {
      "needs_background": "light"
     },
     "output_type": "display_data"
    },
    {
     "data": {
      "image/png": "[encoded data removed]",
      "text/plain": [
       "<Figure size 144x144 with 1 Axes>"
      ]
     },
     "metadata": {
      "needs_background": "light"
     },
     "output_type": "display_data"
    },
    {
     "data": {
      "image/png": "[encoded data removed]",
      "text/plain": [
       "<Figure size 144x144 with 1 Axes>"
      ]
     },
     "metadata": {
      "needs_background": "light"
     },
     "output_type": "display_data"
    },
    {
     "data": {
      "image/png": "[encoded data removed]",
      "text/plain": [
       "<Figure size 144x144 with 1 Axes>"
      ]
     },
     "metadata": {
      "needs_background": "light"
     },
     "output_type": "display_data"
    },
    {
     "data": {
      "image/png": "[encoded data removed]",
      "text/plain": [
       "<Figure size 144x144 with 1 Axes>"
      ]
     },
     "metadata": {
      "needs_background": "light"
     },
     "output_type": "display_data"
    },
    {
     "data": {
      "image/png": "[encoded data removed]",
      "text/plain": [
       "<Figure size 144x144 with 1 Axes>"
      ]
     },
     "metadata": {
      "needs_background": "light"
     },
     "output_type": "display_data"
    },
    {
     "data": {
      "image/png": "[encoded data removed]",
      "text/plain": [
       "<Figure size 144x144 with 1 Axes>"
      ]
     },
     "metadata": {
      "needs_background": "light"
     },
     "output_type": "display_data"
    },
    {
     "data": {
      "image/png": "[encoded data removed]",
      "text/plain": [
       "<Figure size 144x144 with 1 Axes>"
      ]
     },
     "metadata": {
      "needs_background": "light"
     },
     "output_type": "display_data"
    },
    {
     "data": {
      "image/png": "[encoded data removed]",
      "text/plain": [
       "<Figure size 144x144 with 1 Axes>"
      ]
     },
     "metadata": {
      "needs_background": "light"
     },
     "output_type": "display_data"
    },
    {
     "data": {
      "image/png": "[encoded data removed]",
      "text/plain": [
       "<Figure size 144x144 with 1 Axes>"
      ]
     },
     "metadata": {
      "needs_background": "light"
     },
     "output_type": "display_data"
    }
   ],
   "source": [
    "# For this kind of data, it is more appropriate to plot time courses\n",
    "# we can estimate error bars using the std_eff function\n",
    "\n",
    "plot_color = '#377eb8'\n",
    "for gene in df_result.index[:10]:\n",
    "    plot_data = tuple(expression_df.loc[gene][group].values for group in groups_idx)\n",
    "    plt.figure(figsize=(2,2))\n",
    "    y_mean = np.array([y.mean() for y in plot_data])\n",
    "    n = len(y_mean)\n",
    "    x = np.arange(n)\n",
    "    plt.plot(x, y_mean, color=plot_color)\n",
    "    for xi, y, (a,b) in zip(x, plot_data, params):\n",
    "        y_std = std_eff(y, a, b) # estimate effective standard deviation\n",
    "        plt.errorbar(xi, y=y.mean(), yerr=y_std, color=plot_color)\n",
    "        plt.plot([xi]*len(y), y, 'x', color=plot_color)\n",
    "    plt.xticks(ticks=x, labels=['{}_{}'.format(tissue, age) for tissue, age in groups],\n",
    "              rotation=45)\n",
    "    plt.suptitle(gene)\n",
    "    plt.ylabel('log2(TPM)')\n",
    "    "
   ]
  }
 ],
 "metadata": {
  "kernelspec": {
   "display_name": "Python 3",
   "language": "python",
   "name": "python3"
  },
  "language_info": {
   "codemirror_mode": {
    "name": "ipython",
    "version": 3
   },
   "file_extension": ".py",
   "mimetype": "text/x-python",
   "name": "python",
   "nbconvert_exporter": "python",
   "pygments_lexer": "ipython3",
   "version": "3.7.6"
  }
 },
 "nbformat": 4,
 "nbformat_minor": 5
}
